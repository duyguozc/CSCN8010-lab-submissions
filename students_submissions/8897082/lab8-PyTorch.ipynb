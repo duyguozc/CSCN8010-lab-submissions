{
 "cells": [
  {
   "cell_type": "markdown",
   "metadata": {},
   "source": [
    "# Foundation Machine Learning Frameworks\n",
    "### Zohair Mubasheer Ahmed\n",
    "### Student Id - 8897082\n",
    "#### Lab Submission 8 (PyTorch)"
   ]
  },
  {
   "cell_type": "code",
   "execution_count": 1,
   "metadata": {},
   "outputs": [],
   "source": [
    "import torch\n",
    "import helpers as h\n",
    "import sys"
   ]
  },
  {
   "cell_type": "markdown",
   "metadata": {},
   "source": [
    "- Performing Dot Product of two vectors"
   ]
  },
  {
   "cell_type": "code",
   "execution_count": 2,
   "metadata": {},
   "outputs": [
    {
     "name": "stdout",
     "output_type": "stream",
     "text": [
      "tensor([1., 3., 5.])\n",
      "Type         <class 'torch.Tensor'>\n",
      "dtype        torch.float32\n",
      "Dimension    1\n",
      "Shape        (3,)\n",
      "\n",
      "\n",
      "tensor([2., 4., 6.])\n",
      "Type         <class 'torch.Tensor'>\n",
      "dtype        torch.float32\n",
      "Dimension    1\n",
      "Shape        (3,)\n",
      "\n",
      "The Dot Product of the two vectors 'x' and 'y' is tensor(44.)\n"
     ]
    }
   ],
   "source": [
    "# Initializing two vectors\n",
    "a = torch.tensor([1., 3., 5.])\n",
    "b = torch.tensor([2., 4., 6.])\n",
    "\n",
    "# Displaying the vectors\n",
    "h.print_tensor_info(a)\n",
    "print(\"\\n\")\n",
    "h.print_tensor_info(b)\n",
    "\n",
    "# Calculating the dot product\n",
    "dotProduct = a.dot(b)\n",
    "print(\"\\nThe Dot Product is\")\n",
    "dotProduct"
   ]
  },
  {
   "cell_type": "markdown",
   "metadata": {},
   "source": [
    "- Performing the Dot product of two Matrices"
   ]
  },
  {
   "cell_type": "code",
   "execution_count": 3,
   "metadata": {},
   "outputs": [
    {
     "name": "stdout",
     "output_type": "stream",
     "text": [
      "tensor([[1., 3.],\n",
      "        [5., 7.]])\n",
      "Type         <class 'torch.Tensor'>\n",
      "dtype        torch.float32\n",
      "Dimension    2\n",
      "Shape        (2, 2)\n",
      "\n",
      "\n",
      "tensor([[2., 4.],\n",
      "        [6., 8.]])\n",
      "Type         <class 'torch.Tensor'>\n",
      "dtype        torch.float32\n",
      "Dimension    2\n",
      "Shape        (2, 2)\n",
      "\n",
      "The result of multiplication between two 2-dimensional matrices 'a' and 'b', each with a size of (2,2) is:\n",
      " tensor([[20., 28.],\n",
      "        [52., 76.]])\n"
     ]
    }
   ],
   "source": [
    "# Initializing two 2D matrices\n",
    "x = torch.tensor([[1., 3.],[5., 7.]])\n",
    "y = torch.tensor([[2., 4.],[6., 8.]])\n",
    "\n",
    "# Displaying the Matrices\n",
    "h.print_tensor_info(x)\n",
    "print(\"\\n\")\n",
    "h.print_tensor_info(y)\n",
    "\n",
    "# Multiplying the Matrices\n",
    "matrixMultiplication = x.matmul(y)\n",
    "print(\"\\nThe result of multiplication is:\\n\")\n",
    "matrixMultiplication"
   ]
  }
 ],
 "metadata": {
  "kernelspec": {
   "display_name": "CSCN8010_classic_ml",
   "language": "python",
   "name": "python3"
  },
  "language_info": {
   "codemirror_mode": {
    "name": "ipython",
    "version": 3
   },
   "file_extension": ".py",
   "mimetype": "text/x-python",
   "name": "python",
   "nbconvert_exporter": "python",
   "pygments_lexer": "ipython3",
   "version": "3.11.3"
  },
  "orig_nbformat": 4
 },
 "nbformat": 4,
 "nbformat_minor": 2
}
