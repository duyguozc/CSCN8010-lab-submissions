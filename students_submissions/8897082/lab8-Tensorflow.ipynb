{
 "cells": [
  {
   "cell_type": "markdown",
   "metadata": {},
   "source": [
    "# Foundation Machine Learning Frameworks\n",
    "### Zohair Mubasheer Ahmed\n",
    "### Student Id - 8897082\n",
    "#### Lab Submission 8"
   ]
  },
  {
   "cell_type": "code",
   "execution_count": 1,
   "metadata": {},
   "outputs": [],
   "source": [
    "import tensorflow as tf"
   ]
  },
  {
   "cell_type": "code",
   "execution_count": 2,
   "metadata": {},
   "outputs": [
    {
     "name": "stdout",
     "output_type": "stream",
     "text": [
      "The Dot Product of the two vectors 'x' and 'y' is\n"
     ]
    },
    {
     "data": {
      "text/plain": [
       "<tf.Tensor: shape=(), dtype=float32, numpy=44.0>"
      ]
     },
     "execution_count": 2,
     "metadata": {},
     "output_type": "execute_result"
    }
   ],
   "source": [
    "a = tf.constant([1., 3., 5.])\n",
    "b = tf.constant([2., 4., 6.])\n",
    "\n",
    "dotProduct = tf.tensordot(a, b, axes = 1)\n",
    "print(\"The Dot Product of the two vectors 'x' and 'y' is\")\n",
    "dotProduct"
   ]
  },
  {
   "cell_type": "code",
   "execution_count": 3,
   "metadata": {},
   "outputs": [
    {
     "name": "stdout",
     "output_type": "stream",
     "text": [
      "The matrix x is  tf.Tensor(\n",
      "[[1. 3.]\n",
      " [5. 7.]], shape=(2, 2), dtype=float32)\n",
      "The matrix y is  tf.Tensor(\n",
      "[[2. 4.]\n",
      " [6. 8.]], shape=(2, 2), dtype=float32)\n",
      "\n",
      "The result of multiplication is:\n",
      "\n"
     ]
    },
    {
     "data": {
      "text/plain": [
       "<tf.Tensor: shape=(2, 2), dtype=float32, numpy=\n",
       "array([[20., 28.],\n",
       "       [52., 76.]], dtype=float32)>"
      ]
     },
     "execution_count": 3,
     "metadata": {},
     "output_type": "execute_result"
    }
   ],
   "source": [
    "# Initializing two 2-D matrices\n",
    "x = tf.constant([[1., 3.],[5., 7.]])\n",
    "y = tf.constant([[2., 4.],[6., 8.]])\n",
    "\n",
    "# Printing the Matrices\n",
    "print(\"The matrix x is \",x)\n",
    "print(\"The matrix y is \",y)\n",
    "\n",
    "# Matrix multiplication\n",
    "matMultiplication = tf.matmul(x,y)\n",
    "print(\"\\nThe result of multiplication is:\\n\")\n",
    "matMultiplication"
   ]
  }
 ],
 "metadata": {
  "kernelspec": {
   "display_name": "CSCN8010_classic_ml",
   "language": "python",
   "name": "python3"
  },
  "language_info": {
   "codemirror_mode": {
    "name": "ipython",
    "version": 3
   },
   "file_extension": ".py",
   "mimetype": "text/x-python",
   "name": "python",
   "nbconvert_exporter": "python",
   "pygments_lexer": "ipython3",
   "version": "3.11.3"
  },
  "orig_nbformat": 4
 },
 "nbformat": 4,
 "nbformat_minor": 2
}
