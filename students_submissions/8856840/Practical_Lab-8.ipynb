{
 "cells": [
  {
   "cell_type": "markdown",
   "metadata": {},
   "source": [
    "# **Practical Lab-8 (Pytorch) Dwarakanath Chandra (8856840)**"
   ]
  },
  {
   "cell_type": "markdown",
   "metadata": {},
   "source": [
    "### **Using PyTorch:**\n",
    "#### * **Calculate the dot product between two vectors each of length 3 (1.5 points)**\n",
    "#### * **Calculate the matrix multiplication of two 2-dimensional matrices, each with a size of (2,2) (1.5 points)**"
   ]
  },
  {
   "cell_type": "code",
   "execution_count": 1,
   "metadata": {},
   "outputs": [],
   "source": [
    "# Importing pytorch packages\n",
    "\n",
    "import torch"
   ]
  },
  {
   "cell_type": "markdown",
   "metadata": {},
   "source": [
    "#### **Part-A**"
   ]
  },
  {
   "cell_type": "code",
   "execution_count": 2,
   "metadata": {},
   "outputs": [
    {
     "name": "stdout",
     "output_type": "stream",
     "text": [
      "tensor([3, 5, 7])\n",
      "tensor([11, 13, 17])\n"
     ]
    }
   ],
   "source": [
    "# Creating two vectors of length 3 using pytorch\n",
    "\n",
    "vec1 = torch.tensor([3, 5, 7])\n",
    "vec2 = torch.tensor([11, 13, 17])\n",
    "print(vec1)\n",
    "print(vec2)"
   ]
  },
  {
   "cell_type": "code",
   "execution_count": 3,
   "metadata": {},
   "outputs": [
    {
     "name": "stdout",
     "output_type": "stream",
     "text": [
      "tensor(217)\n"
     ]
    }
   ],
   "source": [
    "# Calculating the dot product of vec1 and vec2 using pytorch.\n",
    "\n",
    "# method-1\n",
    "\n",
    "dot_prod = vec1.dot(vec2)\n",
    "\n",
    "print(dot_prod)"
   ]
  },
  {
   "cell_type": "code",
   "execution_count": 4,
   "metadata": {},
   "outputs": [
    {
     "name": "stdout",
     "output_type": "stream",
     "text": [
      "tensor(217)\n"
     ]
    }
   ],
   "source": [
    "# Calculating the dot product of vec1 and vec2 using pytorch\n",
    "\n",
    "# method-2\n",
    "\n",
    "dot_product = torch.dot(vec1, vec2)\n",
    "\n",
    "print(dot_product)"
   ]
  },
  {
   "cell_type": "markdown",
   "metadata": {},
   "source": [
    "#### **Part-B**"
   ]
  },
  {
   "cell_type": "code",
   "execution_count": 5,
   "metadata": {},
   "outputs": [],
   "source": [
    "# Creating two 2-dimensional matrices of size 2 X 2 using pytorch\n",
    "\n",
    "mat1 = torch.tensor([[1, 2], [3, 5]])\n",
    "mat2 = torch.tensor([[8, 13], [21, 34]])"
   ]
  },
  {
   "cell_type": "code",
   "execution_count": 6,
   "metadata": {},
   "outputs": [
    {
     "name": "stdout",
     "output_type": "stream",
     "text": [
      "tensor([[ 50,  81],\n",
      "        [129, 209]])\n"
     ]
    }
   ],
   "source": [
    "# Performing Matrix multiplication using pytorch\n",
    "\n",
    "# Method-1\n",
    "\n",
    "product1 = torch.matmul(mat1, mat2)\n",
    "\n",
    "print(product1)"
   ]
  },
  {
   "cell_type": "code",
   "execution_count": 7,
   "metadata": {},
   "outputs": [
    {
     "name": "stdout",
     "output_type": "stream",
     "text": [
      "tensor([[ 50,  81],\n",
      "        [129, 209]])\n"
     ]
    }
   ],
   "source": [
    "# Performing Matrix multiplication using pytorch\n",
    "\n",
    "# Method-2\n",
    "\n",
    "product2 = mat1.matmul(mat2)\n",
    "\n",
    "print(product2)"
   ]
  },
  {
   "cell_type": "code",
   "execution_count": 8,
   "metadata": {},
   "outputs": [
    {
     "name": "stdout",
     "output_type": "stream",
     "text": [
      "tensor([[ 50,  81],\n",
      "        [129, 209]])\n"
     ]
    }
   ],
   "source": [
    "# Performing Matrix multiplication using pytorch\n",
    "\n",
    "# Method-3\n",
    "\n",
    "product3 = mat1 @ mat2\n",
    "\n",
    "print(product3)"
   ]
  },
  {
   "cell_type": "markdown",
   "metadata": {},
   "source": [
    "# **Practical Lab-8 (Tensorflow) Dwarakanath Chandra (8856840)**"
   ]
  },
  {
   "cell_type": "markdown",
   "metadata": {},
   "source": [
    "#### **Using Tensorflow:**\n",
    "#### * **Calculate the dot product between the same vectors as above (re-define them in Tensorflow) (1.5 points)**\n",
    "#### * **Calculate the matrix multiplication of the same matrics as above (re-define them in Tensorflow) (1.5 points)**"
   ]
  },
  {
   "cell_type": "code",
   "execution_count": 1,
   "metadata": {},
   "outputs": [],
   "source": [
    "# Importing tensorflow packages\n",
    "\n",
    "import tensorflow as tf"
   ]
  },
  {
   "cell_type": "markdown",
   "metadata": {},
   "source": [
    "#### **Part-A**"
   ]
  },
  {
   "cell_type": "code",
   "execution_count": 2,
   "metadata": {},
   "outputs": [
    {
     "name": "stdout",
     "output_type": "stream",
     "text": [
      "tf.Tensor([3 5 7], shape=(3,), dtype=int32)\n",
      "tf.Tensor([11 13 17], shape=(3,), dtype=int32)\n"
     ]
    }
   ],
   "source": [
    "# Creating two vectors of length 3 using tensorflow\n",
    "\n",
    "vec1 = tf.constant([3, 5, 7])\n",
    "vec2 = tf.constant([11, 13, 17])\n",
    "print(vec1)\n",
    "print(vec2)"
   ]
  },
  {
   "cell_type": "code",
   "execution_count": 3,
   "metadata": {},
   "outputs": [
    {
     "name": "stdout",
     "output_type": "stream",
     "text": [
      "tf.Tensor(217, shape=(), dtype=int32)\n"
     ]
    }
   ],
   "source": [
    "# Calculating the dot product of vec1 and vec2 using tensorflow\n",
    "\n",
    "# method-1\n",
    "\n",
    "dot_prod = tf.tensordot(vec1, vec2, axes = 1)\n",
    "\n",
    "print(dot_prod)"
   ]
  },
  {
   "cell_type": "code",
   "execution_count": 4,
   "metadata": {},
   "outputs": [
    {
     "name": "stdout",
     "output_type": "stream",
     "text": [
      "tf.Tensor(217, shape=(), dtype=int32)\n"
     ]
    }
   ],
   "source": [
    "# Calculating the dot product of vec1 and vec2 using tensorflow\n",
    "\n",
    "# method-2\n",
    "\n",
    "element_wise_prod = tf.multiply(vec1, vec2)\n",
    "\n",
    "dot_product = tf.reduce_sum(element_wise_prod)\n",
    "\n",
    "print(dot_product)"
   ]
  },
  {
   "cell_type": "markdown",
   "metadata": {},
   "source": [
    "#### **Part-B**"
   ]
  },
  {
   "cell_type": "code",
   "execution_count": 5,
   "metadata": {},
   "outputs": [
    {
     "name": "stdout",
     "output_type": "stream",
     "text": [
      "tf.Tensor(\n",
      "[[1 2]\n",
      " [3 5]], shape=(2, 2), dtype=int32) tf.Tensor(\n",
      "[[ 8 13]\n",
      " [21 34]], shape=(2, 2), dtype=int32)\n"
     ]
    }
   ],
   "source": [
    "# Creating two 2-dimensional matrices of size 2 X 2 using tensorflow\n",
    "\n",
    "mat1 = tf.constant([[1, 2], [3, 5]])\n",
    "mat2 = tf.constant([[8, 13], [21, 34]])\n",
    "print(mat1, mat2)"
   ]
  },
  {
   "cell_type": "code",
   "execution_count": 6,
   "metadata": {},
   "outputs": [
    {
     "name": "stdout",
     "output_type": "stream",
     "text": [
      "tf.Tensor(\n",
      "[[ 50  81]\n",
      " [129 209]], shape=(2, 2), dtype=int32)\n"
     ]
    }
   ],
   "source": [
    "# Performing Matrix multiplication using tensorflow\n",
    "\n",
    "# Method-1\n",
    "\n",
    "product1 = tf.matmul(mat1, mat2)\n",
    "\n",
    "print(product1)"
   ]
  },
  {
   "cell_type": "code",
   "execution_count": 7,
   "metadata": {},
   "outputs": [
    {
     "name": "stdout",
     "output_type": "stream",
     "text": [
      "tf.Tensor(\n",
      "[[ 50  81]\n",
      " [129 209]], shape=(2, 2), dtype=int32)\n"
     ]
    }
   ],
   "source": [
    "# Performing Matrix multiplication using tensorflow\n",
    "\n",
    "# Method-2\n",
    "\n",
    "product2 = mat1 @ mat2\n",
    "\n",
    "print(product2)"
   ]
  }
 ],
 "metadata": {
  "kernelspec": {
   "display_name": "tensorflow_cpu",
   "language": "python",
   "name": "tensorflow_cpu"
  },
  "language_info": {
   "codemirror_mode": {
    "name": "ipython",
    "version": 3
   },
   "file_extension": ".py",
   "mimetype": "text/x-python",
   "name": "python",
   "nbconvert_exporter": "python",
   "pygments_lexer": "ipython3",
   "version": "3.10.4"
  },
  "orig_nbformat": 4
 },
 "nbformat": 4,
 "nbformat_minor": 2
}
