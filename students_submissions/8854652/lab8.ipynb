{
 "cells": [
  {
   "cell_type": "markdown",
   "metadata": {},
   "source": [
    "# PyTorch"
   ]
  },
  {
   "cell_type": "code",
   "execution_count": 1,
   "metadata": {},
   "outputs": [],
   "source": [
    "import torch"
   ]
  },
  {
   "cell_type": "code",
   "execution_count": 4,
   "metadata": {},
   "outputs": [
    {
     "data": {
      "text/plain": [
       "tensor(5448.)"
      ]
     },
     "execution_count": 4,
     "metadata": {},
     "output_type": "execute_result"
    }
   ],
   "source": [
    "# Calculate the dot product between two vectors each of length 3\n",
    "\n",
    "# Create 2 vectors in length of 3\n",
    "v1 = torch.Tensor([10,12,55])\n",
    "v2 = torch.Tensor([22,14,92])\n",
    "\n",
    "# Calculate dot of vectors\n",
    "dot_product = torch.dot(v1, v2)\n",
    "\n",
    "# Print dot product\n",
    "dot_product"
   ]
  },
  {
   "cell_type": "code",
   "execution_count": 8,
   "metadata": {},
   "outputs": [
    {
     "data": {
      "text/plain": [
       "tensor([[ 624,  220],\n",
       "        [1566,  567]])"
      ]
     },
     "execution_count": 8,
     "metadata": {},
     "output_type": "execute_result"
    }
   ],
   "source": [
    "# Calculate the matrix multiplication of two 2-dimensional matrices, each with a size of (2,2)\n",
    "\n",
    "# Create 2-dimensional metrices\n",
    "m1 = torch.tensor([[10,22], [27,54]])\n",
    "m2 = torch.tensor([[14,11], [22,5]])\n",
    "\n",
    "# Calculate matrix multiplication of matrices\n",
    "mat_mul = torch.mm(m1, m2)\n",
    "\n",
    "# Print multiplication\n",
    "mat_mul"
   ]
  },
  {
   "cell_type": "markdown",
   "metadata": {},
   "source": [
    "# Tensorflow"
   ]
  },
  {
   "cell_type": "code",
   "execution_count": 1,
   "metadata": {},
   "outputs": [],
   "source": [
    "import tensorflow as tf"
   ]
  },
  {
   "cell_type": "code",
   "execution_count": 4,
   "metadata": {},
   "outputs": [
    {
     "data": {
      "text/plain": [
       "<tf.Tensor: shape=(), dtype=int32, numpy=5448>"
      ]
     },
     "execution_count": 4,
     "metadata": {},
     "output_type": "execute_result"
    }
   ],
   "source": [
    "# Calculate the dot product between the same vectors as above\n",
    "\n",
    "# Create 2 vectors in length of 3\n",
    "t_v1 = tf.constant([10,12,55])\n",
    "t_v2 = tf.constant([22,14,92])\n",
    "\n",
    "# Calculate dot of vectors\n",
    "t_dot_product = tf.tensordot(t_v1, t_v2, axes=1)\n",
    "\n",
    "# Print dot product\n",
    "t_dot_product"
   ]
  },
  {
   "cell_type": "code",
   "execution_count": 5,
   "metadata": {},
   "outputs": [
    {
     "data": {
      "text/plain": [
       "<tf.Tensor: shape=(2, 2), dtype=int32, numpy=\n",
       "array([[ 624,  220],\n",
       "       [1566,  567]])>"
      ]
     },
     "execution_count": 5,
     "metadata": {},
     "output_type": "execute_result"
    }
   ],
   "source": [
    "# Calculate the matrix multiplication of the same matrics as above\n",
    "\n",
    "# Create 2-dimensional metrices\n",
    "t_m1 = tf.constant([[10,22], [27,54]])\n",
    "t_m2 = tf.constant([[14,11], [22,5]])\n",
    "\n",
    "# Calculate matrix multiplication of matrices\n",
    "t_mat_mul = tf.matmul(t_m1, t_m2)\n",
    "\n",
    "# Print multiplication\n",
    "t_mat_mul"
   ]
  }
 ],
 "metadata": {
  "kernelspec": {
   "display_name": "tensorflow_cpu",
   "language": "python",
   "name": "tensorflow_cpu"
  },
  "language_info": {
   "codemirror_mode": {
    "name": "ipython",
    "version": 3
   },
   "file_extension": ".py",
   "mimetype": "text/x-python",
   "name": "python",
   "nbconvert_exporter": "python",
   "pygments_lexer": "ipython3",
   "version": "3.11.3"
  },
  "orig_nbformat": 4
 },
 "nbformat": 4,
 "nbformat_minor": 2
}
