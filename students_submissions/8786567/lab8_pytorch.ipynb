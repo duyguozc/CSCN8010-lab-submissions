{
 "cells": [
  {
   "cell_type": "code",
   "execution_count": 1,
   "metadata": {},
   "outputs": [],
   "source": [
    "import torch"
   ]
  },
  {
   "attachments": {},
   "cell_type": "markdown",
   "metadata": {},
   "source": [
    "Calculate the dot product between two vectors each of length 3"
   ]
  },
  {
   "cell_type": "code",
   "execution_count": 2,
   "metadata": {},
   "outputs": [
    {
     "name": "stdout",
     "output_type": "stream",
     "text": [
      "A.B : 569\n"
     ]
    }
   ],
   "source": [
    "a= torch.tensor([34,1,8])\n",
    "b= torch.tensor([12,17,18])\n",
    "c= torch.dot(a,b)\n",
    "print(f'A.B : {c}')"
   ]
  },
  {
   "attachments": {},
   "cell_type": "markdown",
   "metadata": {},
   "source": [
    "Calculate the matrix multiplication of two 2-dimensional matrices, each with a size of (2,2)"
   ]
  },
  {
   "cell_type": "code",
   "execution_count": 3,
   "metadata": {},
   "outputs": [
    {
     "name": "stdout",
     "output_type": "stream",
     "text": [
      "X*Y : tensor([[363, 445],\n",
      "        [464, 720]])\n"
     ]
    }
   ],
   "source": [
    "x= torch.tensor([[15,8],[5,19]])\n",
    "y= torch.tensor([[13,11],[21,35]])\n",
    "z= torch.matmul(x,y)\n",
    "\n",
    "print(f'X*Y : {z}')\n"
   ]
  }
 ],
 "metadata": {
  "kernelspec": {
   "display_name": "pytorch_cpu",
   "language": "python",
   "name": "pytorch_cpu"
  },
  "language_info": {
   "codemirror_mode": {
    "name": "ipython",
    "version": 3
   },
   "file_extension": ".py",
   "mimetype": "text/x-python",
   "name": "python",
   "nbconvert_exporter": "python",
   "pygments_lexer": "ipython3",
   "version": "3.9.12"
  },
  "orig_nbformat": 4
 },
 "nbformat": 4,
 "nbformat_minor": 2
}
