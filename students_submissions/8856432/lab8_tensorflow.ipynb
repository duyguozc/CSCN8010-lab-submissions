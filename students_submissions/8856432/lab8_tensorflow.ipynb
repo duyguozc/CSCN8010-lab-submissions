{
 "cells": [
  {
   "cell_type": "markdown",
   "metadata": {},
   "source": [
    "### Lab 8 - TensorFlow - PRAMOD KUNJUKUNJU SAJI - 8856432"
   ]
  },
  {
   "cell_type": "markdown",
   "metadata": {},
   "source": [
    "3.  Using Tensorflow: \n",
    "  * Calculate the dot product between the same vectors as above (re-define them in Tensorflow) (1.5 points)"
   ]
  },
  {
   "cell_type": "code",
   "execution_count": 11,
   "metadata": {},
   "outputs": [],
   "source": [
    "# Importing necessary libraries\n",
    "import tensorflow as tf"
   ]
  },
  {
   "cell_type": "code",
   "execution_count": 12,
   "metadata": {},
   "outputs": [],
   "source": [
    "# Defining the two vectors each of length 3\n",
    "v1 = tf.constant([8, 2, 5])\n",
    "v2 = tf.constant([3, 1, 7])"
   ]
  },
  {
   "cell_type": "code",
   "execution_count": 13,
   "metadata": {},
   "outputs": [],
   "source": [
    "# Calculating the dot product of v1 and v2\n",
    "dp = tf.tensordot(v1, v2, axes=1)"
   ]
  },
  {
   "cell_type": "code",
   "execution_count": 14,
   "metadata": {},
   "outputs": [
    {
     "name": "stdout",
     "output_type": "stream",
     "text": [
      "Dot Product of two vectors each of length 3 is 61\n"
     ]
    }
   ],
   "source": [
    "# Display the result\n",
    "print(\"Dot Product of two vectors each of length 3 is\", dp.numpy())"
   ]
  },
  {
   "cell_type": "markdown",
   "metadata": {},
   "source": [
    "  * Calculate the matrix multiplication of the same matrics as above (re-define them in Tensorflow) (1.5 points)"
   ]
  },
  {
   "cell_type": "code",
   "execution_count": 15,
   "metadata": {},
   "outputs": [],
   "source": [
    "# Defining the two 2-dimensional matrices, each with a size of (2,2)\n",
    "m1 = tf.constant([[1, 2], [3, 4]])\n",
    "m2 = tf.constant([[9, 8], [7, 6]])"
   ]
  },
  {
   "cell_type": "code",
   "execution_count": 16,
   "metadata": {},
   "outputs": [],
   "source": [
    "# Performing matrix multiplication\n",
    "result = tf.matmul(m1, m2)"
   ]
  },
  {
   "cell_type": "code",
   "execution_count": 18,
   "metadata": {},
   "outputs": [
    {
     "name": "stdout",
     "output_type": "stream",
     "text": [
      "Result is: [[23 20]\n",
      " [55 48]]\n"
     ]
    }
   ],
   "source": [
    "# Display the result\n",
    "print(\"Result is:\", result.numpy())"
   ]
  }
 ],
 "metadata": {
  "kernelspec": {
   "display_name": "tensorflow_metal",
   "language": "python",
   "name": "python3"
  },
  "language_info": {
   "codemirror_mode": {
    "name": "ipython",
    "version": 3
   },
   "file_extension": ".py",
   "mimetype": "text/x-python",
   "name": "python",
   "nbconvert_exporter": "python",
   "pygments_lexer": "ipython3",
   "version": "3.10.10"
  },
  "orig_nbformat": 4
 },
 "nbformat": 4,
 "nbformat_minor": 2
}
