{
 "cells": [
  {
   "attachments": {},
   "cell_type": "markdown",
   "metadata": {},
   "source": [
    "**SABIHA BEGUM MOHAMAD GHOUSE**\n",
    "**(8896658)**"
   ]
  },
  {
   "attachments": {},
   "cell_type": "markdown",
   "metadata": {},
   "source": [
    "***Lab 8 - A Dot product and a Matrix Multiplication in PyTorch and Tensorflow***"
   ]
  },
  {
   "attachments": {},
   "cell_type": "markdown",
   "metadata": {},
   "source": [
    "Using PyTorch:\n",
    "- Calculate the dot product between two vectors each of length 3 (1.5 points)\n"
   ]
  },
  {
   "cell_type": "code",
   "execution_count": 2,
   "metadata": {},
   "outputs": [],
   "source": [
    "#import packages\n",
    "import torch"
   ]
  },
  {
   "cell_type": "code",
   "execution_count": 3,
   "metadata": {},
   "outputs": [
    {
     "name": "stdout",
     "output_type": "stream",
     "text": [
      "Dot Product of pt_vect1 and pt_vect2: 102\n"
     ]
    }
   ],
   "source": [
    "\n",
    "# Defining the two vectors\n",
    "pt_vect1 = torch.tensor([3, 6, 9])\n",
    "pt_vect2 = torch.tensor([2, 4, 8])\n",
    "\n",
    "# Calculate the dot product \n",
    "dot_product = torch.dot(pt_vect1, pt_vect2)\n",
    "\n",
    "# Print the result\n",
    "print(\"Dot Product of pt_vect1 and pt_vect2:\", dot_product.item())\n"
   ]
  },
  {
   "attachments": {},
   "cell_type": "markdown",
   "metadata": {},
   "source": [
    "- Calculate the matrix multiplication of two 2-dimensional matrices, each with a size of (2,2)"
   ]
  },
  {
   "cell_type": "code",
   "execution_count": 4,
   "metadata": {},
   "outputs": [
    {
     "name": "stdout",
     "output_type": "stream",
     "text": [
      "Matrix Multiplication :\n",
      "tensor([[28, 28],\n",
      "        [56, 56]])\n"
     ]
    }
   ],
   "source": [
    "# Defining the two matrices\n",
    "matrix_1 = torch.tensor([[2, 2], [4, 4]])\n",
    "matrix_2 = torch.tensor([[6, 6], [8, 8]])\n",
    "\n",
    "# Perform matrix multiplication using matmul\n",
    "result = torch.matmul(matrix_1, matrix_2)\n",
    "\n",
    "# Print the result\n",
    "print(\"Matrix Multiplication :\")\n",
    "print(result)\n"
   ]
  },
  {
   "attachments": {},
   "cell_type": "markdown",
   "metadata": {},
   "source": [
    "We then use the torch.matmul() function to perform matrix multiplication between the two matrices "
   ]
  },
  {
   "attachments": {},
   "cell_type": "markdown",
   "metadata": {},
   "source": [
    "Matrix multiplication can be done by another method Using the @ operator"
   ]
  },
  {
   "cell_type": "code",
   "execution_count": 9,
   "metadata": {},
   "outputs": [
    {
     "name": "stdout",
     "output_type": "stream",
     "text": [
      "Matrix Multiplication Result:\n",
      "tensor([[28, 28],\n",
      "        [56, 56]])\n"
     ]
    }
   ],
   "source": [
    "# Defining the two matrices\n",
    "matrix_3 = torch.tensor([[2, 2], [4, 4]])\n",
    "matrix_4 = torch.tensor([[6, 6], [8, 8]])\n",
    "\n",
    "# Perform matrix multiplication using @\n",
    "result_2 = matrix_3 @ matrix_4\n",
    "\n",
    "# Print the result\n",
    "print(\"Matrix Multiplication Result:\")\n",
    "print(result_2)\n"
   ]
  },
  {
   "attachments": {},
   "cell_type": "markdown",
   "metadata": {},
   "source": [
    "Using Tensorflow:\n",
    "- Calculate the dot product between the same vectors as above (re-define them in Tensorflow)"
   ]
  },
  {
   "cell_type": "code",
   "execution_count": 12,
   "metadata": {},
   "outputs": [],
   "source": [
    "#import package\n",
    "import tensorflow as tf"
   ]
  },
  {
   "cell_type": "code",
   "execution_count": 14,
   "metadata": {},
   "outputs": [
    {
     "name": "stdout",
     "output_type": "stream",
     "text": [
      "Dot Product: tf.Tensor(32, shape=(), dtype=int32)\n"
     ]
    }
   ],
   "source": [
    "# Define the two vectors\n",
    "tf_vector1 = tf.constant([1, 2, 3])\n",
    "tf_vector2 = tf.constant([4, 5, 6])\n",
    "\n",
    "# Calculate the dot product\n",
    "dot_product = tf.tensordot(tf_vector1, tf_vector2, axes=1)\n",
    "\n",
    "# Print the result\n",
    "print(\"Dot Product:\", dot_product)"
   ]
  },
  {
   "attachments": {},
   "cell_type": "markdown",
   "metadata": {},
   "source": [
    "- Calculate the matrix multiplication of the same matrics as above (re-define them in Tensorflow)"
   ]
  },
  {
   "cell_type": "code",
   "execution_count": 19,
   "metadata": {},
   "outputs": [
    {
     "name": "stdout",
     "output_type": "stream",
     "text": [
      "Matrix multiplication:\n",
      "tf.Tensor(\n",
      "[[26 40]\n",
      " [50 74]], shape=(2, 2), dtype=int32)\n"
     ]
    }
   ],
   "source": [
    "# Define the matrices\n",
    "\n",
    "matrix_1 = tf.constant([[4, 2], [7, 4]])\n",
    "matrix_2 = tf.constant([[2, 6], [9, 8]])\n",
    "\n",
    "# Calculate the matrix multiplication using tf.matmul()\n",
    "result = tf.matmul(matrix_1, matrix_2)\n",
    "\n",
    "print(\"Matrix multiplication:\")\n",
    "print(result)"
   ]
  },
  {
   "attachments": {},
   "cell_type": "markdown",
   "metadata": {},
   "source": [
    "We then use the tf.matmul() function to perform matrix multiplication between the two matrices "
   ]
  },
  {
   "attachments": {},
   "cell_type": "markdown",
   "metadata": {},
   "source": [
    "Matrix multiplication can be done by another method Using the @ operator"
   ]
  },
  {
   "cell_type": "code",
   "execution_count": 18,
   "metadata": {},
   "outputs": [
    {
     "name": "stdout",
     "output_type": "stream",
     "text": [
      "Matrix multiplication:\n",
      "tf.Tensor(\n",
      "[[26 40]\n",
      " [50 74]], shape=(2, 2), dtype=int32)\n"
     ]
    }
   ],
   "source": [
    "# Define the matrices\n",
    "matrix_3 = tf.constant([[4, 2], [7, 4]])\n",
    "matrix_4 = tf.constant([[2, 6], [9, 8]])\n",
    "\n",
    "# Calculate the matrix multiplication using the @ operator\n",
    "result_2 = matrix_3 @ matrix_4\n",
    "\n",
    "print(\"Matrix multiplication:\")\n",
    "print(result_2)"
   ]
  }
 ],
 "metadata": {
  "kernelspec": {
   "display_name": "CSCN8010_classic_ml`",
   "language": "python",
   "name": "cscn8010_classic_ml"
  },
  "language_info": {
   "codemirror_mode": {
    "name": "ipython",
    "version": 3
   },
   "file_extension": ".py",
   "mimetype": "text/x-python",
   "name": "python",
   "nbconvert_exporter": "python",
   "pygments_lexer": "ipython3",
   "version": "3.11.3"
  },
  "orig_nbformat": 4
 },
 "nbformat": 4,
 "nbformat_minor": 2
}
