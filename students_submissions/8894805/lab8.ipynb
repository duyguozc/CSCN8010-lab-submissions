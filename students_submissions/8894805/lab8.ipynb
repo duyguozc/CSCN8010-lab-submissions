{
 "cells": [
  {
   "cell_type": "markdown",
   "metadata": {},
   "source": [
    "<link rel=\"preconnect\" href=\"https://fonts.googleapis.com\">\n",
    "<link rel=\"preconnect\" href=\"https://fonts.gstatic.com\" crossorigin>\n",
    "<link href=\"https://fonts.googleapis.com/css2?family=Cinzel&family=Rokkitt:ital@1&display=swap\" rel=\"stylesheet\">\n",
    "\n",
    "<h1 style=\"text-align:center;font-family: 'Cinzel', serif;\">Practical Lab 8</h1>\n",
    "<h2 style=\"text-align:center;font-family: 'Cinzel', serif;\">Waseem Raja Shaik</h2>\n",
    "<h2 style=\"text-align:center;font-family: 'Cinzel', serif;\">Student Id - 8894805</h2>"
   ]
  },
  {
   "cell_type": "markdown",
   "metadata": {},
   "source": [
    "# Using PyTorch: \n",
    "  * Calculate the dot product between two vectors each of length 3 (1.5 points)"
   ]
  },
  {
   "cell_type": "code",
   "execution_count": 1,
   "metadata": {},
   "outputs": [
    {
     "name": "stdout",
     "output_type": "stream",
     "text": [
      "Dot Product\n",
      "one way to do is torch.dot: tensor(41)\n",
      "second way to do is torch.sum: tensor(41)\n"
     ]
    }
   ],
   "source": [
    "import torch\n",
    "\n",
    "A = torch.tensor([2, 3, 4])\n",
    "B = torch.tensor([1, 5, 6])\n",
    "\n",
    "print('Dot Product')\n",
    "print('one way to do is torch.dot:', torch.dot(A, B))\n",
    "print('second way to do is torch.sum:', torch.sum(A * B))\n"
   ]
  },
  {
   "cell_type": "markdown",
   "metadata": {},
   "source": [
    "  * Calculate the matrix multiplication of two 2-dimensional matrices, each with a size of (2,2) (1.5 points)"
   ]
  },
  {
   "cell_type": "code",
   "execution_count": 2,
   "metadata": {},
   "outputs": [
    {
     "name": "stdout",
     "output_type": "stream",
     "text": [
      "Matrix Multiplication\n",
      "one way to do is torch.matmul tensor([[108, 248],\n",
      "        [136, 316]])\n",
      "second way to do is torch.mm tensor([[108, 248],\n",
      "        [136, 316]])\n",
      "third way to do is @ tensor([[108, 248],\n",
      "        [136, 316]])\n"
     ]
    }
   ],
   "source": [
    "C = torch.tensor([[2, 12], [4, 14]])\n",
    "D = torch.tensor([[6, 16], [8, 18]])\n",
    "\n",
    "print(\"Matrix Multiplication\")\n",
    "print(\"one way to do is torch.matmul\", torch.matmul(C,D))\n",
    "print(\"second way to do is torch.mm\", torch.mm(C,D))\n",
    "print(\"third way to do is @\", C@D)"
   ]
  },
  {
   "cell_type": "markdown",
   "metadata": {},
   "source": [
    "# Using Tensorflow: \n",
    "  * Calculate the dot product between the same vectors as above (re-define them in Tensorflow) (1.5 points)\n"
   ]
  },
  {
   "cell_type": "code",
   "execution_count": 1,
   "metadata": {},
   "outputs": [
    {
     "name": "stderr",
     "output_type": "stream",
     "text": [
      "2023-07-14 15:45:45.778870: I tensorflow/core/platform/cpu_feature_guard.cc:182] This TensorFlow binary is optimized to use available CPU instructions in performance-critical operations.\n",
      "To enable the following instructions: AVX2 FMA, in other operations, rebuild TensorFlow with the appropriate compiler flags.\n"
     ]
    }
   ],
   "source": [
    "import tensorflow as tf\n",
    "import numpy as np"
   ]
  },
  {
   "cell_type": "code",
   "execution_count": 2,
   "metadata": {},
   "outputs": [
    {
     "name": "stdout",
     "output_type": "stream",
     "text": [
      "Dot Product\n",
      "one way to do is tf.tensordot: tf.Tensor(41, shape=(), dtype=int32)\n",
      "one way to do is tf.reduce_sum(tf.multiply): tf.Tensor(41, shape=(), dtype=int32)\n"
     ]
    }
   ],
   "source": [
    "\n",
    "A = tf.constant([2, 3, 4])\n",
    "B = tf.constant([1, 5, 6])\n",
    "\n",
    "print('Dot Product')\n",
    "print('one way to do is tf.tensordot:', tf.tensordot(A, B, axes=1))\n",
    "print('one way to do is tf.reduce_sum(tf.multiply):', tf.reduce_sum(tf.multiply(A, B)))"
   ]
  },
  {
   "cell_type": "markdown",
   "metadata": {},
   "source": [
    "  * Calculate the matrix multiplication of the same matrics as above (re-define them in Tensorflow) (1.5 points)\n"
   ]
  },
  {
   "cell_type": "code",
   "execution_count": 3,
   "metadata": {},
   "outputs": [
    {
     "name": "stdout",
     "output_type": "stream",
     "text": [
      "Matrix Multiplication\n",
      "one way to do is tf.matmul tf.Tensor(\n",
      "[[108 248]\n",
      " [136 316]], shape=(2, 2), dtype=int32)\n",
      "second way to do is matmul tf.Tensor(\n",
      "[[108 248]\n",
      " [136 316]], shape=(2, 2), dtype=int32)\n",
      "third way to do is @ tf.Tensor(\n",
      "[[108 248]\n",
      " [136 316]], shape=(2, 2), dtype=int32)\n"
     ]
    }
   ],
   "source": [
    "C = tf.constant([[2, 12], [4, 14]])\n",
    "D = tf.constant([[6, 16], [8, 18]])\n",
    "\n",
    "print(\"Matrix Multiplication\")\n",
    "print(\"one way to do is tf.matmul\", tf.matmul(C,D))\n",
    "print(\"second way to do is matmul\", tf.linalg.matmul(C,D))\n",
    "print(\"third way to do is @\", C@D)"
   ]
  }
 ],
 "metadata": {
  "kernelspec": {
   "display_name": "pytorch_cpu",
   "language": "python",
   "name": "python3"
  },
  "language_info": {
   "codemirror_mode": {
    "name": "ipython",
    "version": 3
   },
   "file_extension": ".py",
   "mimetype": "text/x-python",
   "name": "python",
   "nbconvert_exporter": "python",
   "pygments_lexer": "ipython3",
   "version": "3.11.4"
  },
  "orig_nbformat": 4
 },
 "nbformat": 4,
 "nbformat_minor": 2
}
