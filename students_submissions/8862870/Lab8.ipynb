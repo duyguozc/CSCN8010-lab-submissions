{
 "cells": [
  {
   "cell_type": "markdown",
   "metadata": {},
   "source": [
    "### Name: Dhrushil Dipenkumar Patel\n",
    "### Student Id: 8862870\n",
    "### Lab: 8"
   ]
  },
  {
   "cell_type": "markdown",
   "metadata": {},
   "source": [
    "### 1. For this activity i use \"pytorch_cpu\"."
   ]
  },
  {
   "cell_type": "code",
   "execution_count": 1,
   "metadata": {},
   "outputs": [
    {
     "name": "stdout",
     "output_type": "stream",
     "text": [
      "113\n"
     ]
    }
   ],
   "source": [
    "# Make a two vectors of 3 lenth and perform dot operation on them\n",
    "\n",
    "import numpy as np\n",
    "\n",
    "X = np.array([5,7,9])\n",
    "Y = np.array([3,5,7])\n",
    "\n",
    "print(np.dot(X,Y))\n",
    "\n"
   ]
  },
  {
   "cell_type": "code",
   "execution_count": 3,
   "metadata": {},
   "outputs": [
    {
     "name": "stdout",
     "output_type": "stream",
     "text": [
      "[[50 74]\n",
      " [66 98]]\n"
     ]
    }
   ],
   "source": [
    "# Make a two 2x2 metrix and perform nmetrix multiplication on them\n",
    "\n",
    "X = np.array([[5,7],[7,9]])\n",
    "Y = np.array([[3,5],[5,7]])\n",
    "\n",
    "print(np.matmul(X,Y))\n"
   ]
  },
  {
   "cell_type": "markdown",
   "metadata": {},
   "source": [
    "### 2. For this activity i use \"tensorflow_cpu\"."
   ]
  },
  {
   "cell_type": "code",
   "execution_count": 2,
   "metadata": {},
   "outputs": [
    {
     "name": "stdout",
     "output_type": "stream",
     "text": [
      "113\n"
     ]
    }
   ],
   "source": [
    "# Make a two vectors of 3 lenth and perform dot operation on them\n",
    "\n",
    "import numpy as np\n",
    "\n",
    "X = np.array([5,7,9])\n",
    "Y = np.array([3,5,7])\n",
    "\n",
    "print(np.dot(X,Y))\n"
   ]
  },
  {
   "cell_type": "code",
   "execution_count": 3,
   "metadata": {},
   "outputs": [
    {
     "name": "stdout",
     "output_type": "stream",
     "text": [
      "[[50 74]\n",
      " [66 98]]\n"
     ]
    }
   ],
   "source": [
    "# Make a two 2x2 metrix and perform nmetrix multiplication on them\n",
    "\n",
    "X = np.array([[5,7],[7,9]])\n",
    "Y = np.array([[3,5],[5,7]])\n",
    "\n",
    "print(np.matmul(X,Y))"
   ]
  }
 ],
 "metadata": {
  "kernelspec": {
   "display_name": "tensorflow_cpu",
   "language": "python",
   "name": "tensorflow_cpu"
  },
  "language_info": {
   "codemirror_mode": {
    "name": "ipython",
    "version": 3
   },
   "file_extension": ".py",
   "mimetype": "text/x-python",
   "name": "python",
   "nbconvert_exporter": "python",
   "pygments_lexer": "ipython3",
   "version": "3.11.3"
  },
  "orig_nbformat": 4
 },
 "nbformat": 4,
 "nbformat_minor": 2
}
