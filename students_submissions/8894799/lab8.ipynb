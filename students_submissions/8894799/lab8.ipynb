{
 "cells": [
  {
   "cell_type": "markdown",
   "metadata": {},
   "source": [
    "## Name :- Varun Biren Majithia\n",
    "## Student_id :- 8894799"
   ]
  },
  {
   "cell_type": "markdown",
   "metadata": {},
   "source": [
    "### Importing torch"
   ]
  },
  {
   "cell_type": "code",
   "execution_count": null,
   "metadata": {},
   "outputs": [],
   "source": [
    "import torch"
   ]
  },
  {
   "cell_type": "markdown",
   "metadata": {},
   "source": [
    "### Calculate the dot product between two vectors each of length 3 using pytorch"
   ]
  },
  {
   "cell_type": "code",
   "execution_count": 2,
   "metadata": {},
   "outputs": [
    {
     "name": "stdout",
     "output_type": "stream",
     "text": [
      "tensor(1022)\n"
     ]
    }
   ],
   "source": [
    "# creating vectors v1 and v2 of length 3\n",
    "v1  = torch.tensor([16,17,18])\n",
    "v2 = torch.tensor([19,20,21])\n",
    "\n",
    "# Calculate the dot product\n",
    "dot_prdt = torch.dot(v1,v2)\n",
    "\n",
    "print(dot_prdt)\n"
   ]
  },
  {
   "cell_type": "markdown",
   "metadata": {},
   "source": [
    "Inferences:- \n",
    "\n",
    "The torch.tensor fucntion is used to create two tensors representing the vectors v1 and v2 respectively.\n",
    "\n",
    "torch.dot function computes the dot prooduct between two vectors\n",
    "\n",
    "And the output tensor(1022) represents a scalar tensor\n"
   ]
  },
  {
   "cell_type": "markdown",
   "metadata": {},
   "source": [
    "### Calculate the matrix multiplication of two 2-dimensional matrices, each with a size of (2,2) using pytorch"
   ]
  },
  {
   "cell_type": "code",
   "execution_count": 3,
   "metadata": {},
   "outputs": [
    {
     "name": "stdout",
     "output_type": "stream",
     "text": [
      "tensor([[195, 302],\n",
      "        [241, 372]])\n"
     ]
    }
   ],
   "source": [
    "# Creating 2D matrices mat1 and mat2 of size 2x2\n",
    "\n",
    "mat1 = torch.tensor([[8,9], [10,11]])\n",
    "mat2 = torch.tensor([[12,13], [11,22]])\n",
    "\n",
    "# Performing matrix multiplication\n",
    "output = torch.matmul(mat1,mat2)\n",
    "\n",
    "\n",
    "print(output)"
   ]
  },
  {
   "cell_type": "markdown",
   "metadata": {},
   "source": [
    "Inferences:- \n",
    "\n",
    "The torch.tensor is used to create two tensors representing the matrices.\n",
    "\n",
    "torch.matmul is used to perform matrix multiplication bterween mat1 and mat2\n",
    "\n",
    "The final output is a Pytorch tensor representing matrix product"
   ]
  },
  {
   "cell_type": "markdown",
   "metadata": {},
   "source": [
    "## PART B\n",
    "\n",
    "### Calculate the dot product between the same vectors as above using tensorflow\n",
    "### Calculate the matrix multiplication of the same matrics as above using tensorflow"
   ]
  },
  {
   "cell_type": "code",
   "execution_count": 4,
   "metadata": {},
   "outputs": [
    {
     "name": "stdout",
     "output_type": "stream",
     "text": [
      "tf.Tensor(452, shape=(), dtype=int32)\n"
     ]
    }
   ],
   "source": [
    "import tensorflow as tf\n",
    "\n",
    "# Define the two vectors vector1 and vector 2 of lenght 3\n",
    "vector1 = tf.constant([9,10,11])\n",
    "vector2= tf.constant([16,11,18])\n",
    "\n",
    "# Calculate the dot product\n",
    "dot_prod = tf.tensordot(vector1, vector2, axes=1)\n",
    "\n",
    "# Print the result\n",
    "print(dot_prod)"
   ]
  },
  {
   "cell_type": "markdown",
   "metadata": {},
   "source": [
    "Inferences :- \n",
    "\n",
    "The tf.constant function is used to create two constant tensors represnting the vectors\n",
    "\n",
    "To compute the dot product between two vectors we use the tf.tensordot \n",
    "\n",
    "Finally, the output is a tensorflow tensor which represents the dot product of the vectors"
   ]
  },
  {
   "cell_type": "code",
   "execution_count": 5,
   "metadata": {},
   "outputs": [
    {
     "name": "stdout",
     "output_type": "stream",
     "text": [
      "tf.Tensor(\n",
      "[[47 50]\n",
      " [83 88]], shape=(2, 2), dtype=int32)\n"
     ]
    }
   ],
   "source": [
    "import tensorflow as tf\n",
    "\n",
    "# Define the two 2D matrices of shape 2x2 \n",
    "matrix_1 = tf.constant([[2,3], [4,5]])\n",
    "matrix_2 = tf.constant([[7,7], [11,12]])\n",
    "\n",
    "# Perform matrix multiplication\n",
    "result = tf.matmul(matrix_1, matrix_2)\n",
    "\n",
    "# Print the result\n",
    "print(result)"
   ]
  },
  {
   "cell_type": "markdown",
   "metadata": {},
   "source": [
    "Inferences :-\n",
    "\n",
    "the tf.constant is used to create two constant tensors reprensting two matrices.\n",
    "\n",
    "tf.matmul function is used to perform matrix multiplication.\n",
    "\n",
    "The output is a tensorflow tensor representing the matrix product "
   ]
  }
 ],
 "metadata": {
  "kernelspec": {
   "display_name": "CSCN8010_classic_ml",
   "language": "python",
   "name": "python3"
  },
  "language_info": {
   "codemirror_mode": {
    "name": "ipython",
    "version": 3
   },
   "file_extension": ".py",
   "mimetype": "text/x-python",
   "name": "python",
   "nbconvert_exporter": "python",
   "pygments_lexer": "ipython3",
   "version": "3.10.11"
  },
  "orig_nbformat": 4
 },
 "nbformat": 4,
 "nbformat_minor": 2
}
