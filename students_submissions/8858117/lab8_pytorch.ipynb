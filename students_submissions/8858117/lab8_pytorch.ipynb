{
 "cells": [
  {
   "cell_type": "code",
   "execution_count": 7,
   "metadata": {},
   "outputs": [],
   "source": [
    "import torch"
   ]
  },
  {
   "cell_type": "markdown",
   "metadata": {},
   "source": [
    "* Calculate the dot product between two vectors each of length 3 "
   ]
  },
  {
   "cell_type": "code",
   "execution_count": 8,
   "metadata": {},
   "outputs": [
    {
     "name": "stdout",
     "output_type": "stream",
     "text": [
      "A : tensor([2, 4, 6])\n",
      "B : tensor([ 8, 10, 12])\n",
      "A.B : 128\n"
     ]
    },
    {
     "data": {
      "text/plain": [
       "tensor(128)"
      ]
     },
     "execution_count": 8,
     "metadata": {},
     "output_type": "execute_result"
    }
   ],
   "source": [
    "a= torch.tensor([2,4,6])\n",
    "b= torch.tensor([8,10,12])\n",
    "c= torch.dot(a,b)\n",
    "print(f'A : {a}')\n",
    "print(f'B : {b}')\n",
    "print(f'A.B : {c}')\n",
    "c"
   ]
  },
  {
   "cell_type": "markdown",
   "metadata": {},
   "source": [
    "* Calculate the matrix multiplication of two 2-dimensional matrices, each with a size of (2,2)"
   ]
  },
  {
   "cell_type": "code",
   "execution_count": 9,
   "metadata": {},
   "outputs": [
    {
     "name": "stdout",
     "output_type": "stream",
     "text": [
      "X : tensor([[2, 4],\n",
      "        [6, 8]])\n",
      "Y : tensor([[10, 12],\n",
      "        [14, 16]])\n",
      "X*Y : tensor([[ 76,  88],\n",
      "        [172, 200]])\n"
     ]
    },
    {
     "data": {
      "text/plain": [
       "tensor([[ 76,  88],\n",
       "        [172, 200]])"
      ]
     },
     "execution_count": 9,
     "metadata": {},
     "output_type": "execute_result"
    }
   ],
   "source": [
    "x= torch.tensor([[2,4],[6,8]])\n",
    "y= torch.tensor([[10,12],[14,16]])\n",
    "z= torch.matmul(x,y)\n",
    "print(f'X : {x}')\n",
    "print(f'Y : {y}')\n",
    "print(f'X*Y : {z}')\n",
    "z"
   ]
  }
 ],
 "metadata": {
  "kernelspec": {
   "display_name": "pytorch_cpu",
   "language": "python",
   "name": "python3"
  },
  "language_info": {
   "codemirror_mode": {
    "name": "ipython",
    "version": 3
   },
   "file_extension": ".py",
   "mimetype": "text/x-python",
   "name": "python",
   "nbconvert_exporter": "python",
   "pygments_lexer": "ipython3",
   "version": "3.11.3"
  },
  "orig_nbformat": 4
 },
 "nbformat": 4,
 "nbformat_minor": 2
}
