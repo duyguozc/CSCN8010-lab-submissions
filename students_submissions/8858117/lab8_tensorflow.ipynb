{
 "cells": [
  {
   "cell_type": "code",
   "execution_count": 15,
   "metadata": {},
   "outputs": [],
   "source": [
    "import tensorflow as tf"
   ]
  },
  {
   "cell_type": "markdown",
   "metadata": {},
   "source": [
    "* Calculate the dot product between the same vectors as above (re-define them in Tensorflow)"
   ]
  },
  {
   "cell_type": "code",
   "execution_count": 16,
   "metadata": {},
   "outputs": [
    {
     "name": "stdout",
     "output_type": "stream",
     "text": [
      "A : [2 4 6]\n",
      "B : [ 8 10 12]\n",
      "A.B :128\n"
     ]
    },
    {
     "data": {
      "text/plain": [
       "<tf.Tensor: shape=(), dtype=int32, numpy=128>"
      ]
     },
     "execution_count": 16,
     "metadata": {},
     "output_type": "execute_result"
    }
   ],
   "source": [
    "a= tf.constant([2,4,6])\n",
    "b= tf.constant([8,10,12])\n",
    "c= tf.tensordot(a,b,axes=1)\n",
    "print(f'A : {a}')\n",
    "print(f'B : {b}')\n",
    "print(f'A.B :{c}')\n",
    "c"
   ]
  },
  {
   "cell_type": "markdown",
   "metadata": {},
   "source": [
    "* Calculate the matrix multiplication of the same matrics as above (re-define them in Tensorflow) "
   ]
  },
  {
   "cell_type": "code",
   "execution_count": 17,
   "metadata": {},
   "outputs": [
    {
     "name": "stdout",
     "output_type": "stream",
     "text": [
      "X : [[2 4]\n",
      " [6 8]]\n",
      "Y : [[10 12]\n",
      " [14 16]]\n",
      "X*Y : [[ 76  88]\n",
      " [172 200]]\n"
     ]
    },
    {
     "data": {
      "text/plain": [
       "<tf.Tensor: shape=(2, 2), dtype=int32, numpy=\n",
       "array([[ 76,  88],\n",
       "       [172, 200]])>"
      ]
     },
     "execution_count": 17,
     "metadata": {},
     "output_type": "execute_result"
    }
   ],
   "source": [
    "x= tf.constant([[2,4],[6,8]])\n",
    "y= tf.constant([[10,12],[14,16]])\n",
    "z= tf.matmul(x,y)\n",
    "print(f'X : {x}')\n",
    "print(f'Y : {y}')\n",
    "print(f'X*Y : {z}')\n",
    "z"
   ]
  }
 ],
 "metadata": {
  "kernelspec": {
   "display_name": "tensorflow_cpu",
   "language": "python",
   "name": "python3"
  },
  "language_info": {
   "codemirror_mode": {
    "name": "ipython",
    "version": 3
   },
   "file_extension": ".py",
   "mimetype": "text/x-python",
   "name": "python",
   "nbconvert_exporter": "python",
   "pygments_lexer": "ipython3",
   "version": "3.11.3"
  },
  "orig_nbformat": 4
 },
 "nbformat": 4,
 "nbformat_minor": 2
}
