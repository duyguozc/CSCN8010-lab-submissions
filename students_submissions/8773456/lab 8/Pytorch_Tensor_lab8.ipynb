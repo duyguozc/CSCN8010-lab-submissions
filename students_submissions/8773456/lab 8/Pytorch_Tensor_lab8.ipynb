{
 "cells": [
  {
   "cell_type": "markdown",
   "id": "6d393387",
   "metadata": {},
   "source": [
    "#### ARJUN KC(8773456)"
   ]
  },
  {
   "cell_type": "code",
   "execution_count": 1,
   "id": "ea66126e",
   "metadata": {},
   "outputs": [
    {
     "name": "stdout",
     "output_type": "stream",
     "text": [
      "Tensor: tensor([10, 10])\n",
      "PyTorch version: 2.0.0+cpu\n",
      "Succeeded\n"
     ]
    }
   ],
   "source": [
    "try:\n",
    "    import torch\n",
    "    print(f'Tensor: {torch.tensor([10, 10])}')\n",
    "    print(f'PyTorch version: {torch.__version__}')    \n",
    "    print('Succeeded')\n",
    "except:\n",
    "    print(\"Didn't succeed\")"
   ]
  },
  {
   "cell_type": "markdown",
   "id": "a51a24df",
   "metadata": {},
   "source": [
    "#### Using Pytorch"
   ]
  },
  {
   "cell_type": "code",
   "execution_count": 3,
   "id": "876fd39e",
   "metadata": {},
   "outputs": [],
   "source": [
    "import sys\n",
    "import torch"
   ]
  },
  {
   "cell_type": "markdown",
   "id": "78bfd55f",
   "metadata": {},
   "source": [
    "Using PyTorch: \n",
    "  * Calculate the dot product between two vectors each of length 3 "
   ]
  },
  {
   "cell_type": "code",
   "execution_count": 10,
   "id": "fb1c5095",
   "metadata": {},
   "outputs": [],
   "source": [
    "v1 = torch.tensor([7,8,9])  #defining the first vector\n",
    "v2 = torch.tensor([9,8,7])  #degfinig the second vector\n"
   ]
  },
  {
   "cell_type": "code",
   "execution_count": 11,
   "id": "de002bae",
   "metadata": {},
   "outputs": [],
   "source": [
    "dot_prd = torch.dot(v1,v2)"
   ]
  },
  {
   "cell_type": "code",
   "execution_count": 17,
   "id": "71419829",
   "metadata": {},
   "outputs": [
    {
     "data": {
      "text/plain": [
       "tensor(190)"
      ]
     },
     "execution_count": 17,
     "metadata": {},
     "output_type": "execute_result"
    }
   ],
   "source": [
    "dot_prd  #showing the output with tensor object and value"
   ]
  },
  {
   "cell_type": "code",
   "execution_count": 16,
   "id": "3d6df50f",
   "metadata": {},
   "outputs": [
    {
     "name": "stdout",
     "output_type": "stream",
     "text": [
      "the output of the dot product between two vectors each of length 3 is 190\n"
     ]
    }
   ],
   "source": [
    "print(f'the output of the dot product between two vectors each of length 3 is {dot_prd}')"
   ]
  },
  {
   "cell_type": "code",
   "execution_count": 18,
   "id": "13315dcf",
   "metadata": {},
   "outputs": [
    {
     "data": {
      "text/plain": [
       "190"
      ]
     },
     "execution_count": 18,
     "metadata": {},
     "output_type": "execute_result"
    }
   ],
   "source": [
    "dot_prd.item()  #showing the output by extracting the scalar value from tensor"
   ]
  },
  {
   "cell_type": "markdown",
   "id": "f3d7fb40",
   "metadata": {},
   "source": [
    " Using PyTorch: \n",
    "  *   Calculate the matrix multiplication of two 2-dimensional matrices, each with a size of (2,2) "
   ]
  },
  {
   "cell_type": "code",
   "execution_count": 50,
   "id": "bb43a2ac",
   "metadata": {},
   "outputs": [],
   "source": [
    "mat1 = torch.tensor([[2,3],[4,5]]) #defining the first 2-dim matrix\n",
    "mat2 = torch.tensor([[6,7,],[8,9]])#definig the second 2-dim  matrix"
   ]
  },
  {
   "cell_type": "markdown",
   "id": "32554506",
   "metadata": {},
   "source": [
    "Note: in pytorch we can use @  or matmul for matrix multiplication"
   ]
  },
  {
   "cell_type": "code",
   "execution_count": 51,
   "id": "a29e1a09",
   "metadata": {},
   "outputs": [],
   "source": [
    "mat = torch.matmul(mat1,mat2)  #printing using matmul"
   ]
  },
  {
   "cell_type": "code",
   "execution_count": 52,
   "id": "741bf372",
   "metadata": {},
   "outputs": [
    {
     "data": {
      "text/plain": [
       "tensor([[36, 41],\n",
       "        [64, 73]])"
      ]
     },
     "execution_count": 52,
     "metadata": {},
     "output_type": "execute_result"
    }
   ],
   "source": [
    "mat  #printing the ouput with the tensor object and value "
   ]
  },
  {
   "cell_type": "code",
   "execution_count": 53,
   "id": "696457be",
   "metadata": {},
   "outputs": [],
   "source": [
    "mat = mat1 @ mat2  #using the @ "
   ]
  },
  {
   "cell_type": "code",
   "execution_count": 54,
   "id": "9c29e39e",
   "metadata": {},
   "outputs": [
    {
     "name": "stdout",
     "output_type": "stream",
     "text": [
      "tensor([[36, 41],\n",
      "        [64, 73]])\n",
      "Dimension: 2\n",
      "Shape: torch.Size([2, 2])\n"
     ]
    }
   ],
   "source": [
    "print(mat)\n",
    "print(\"Dimension:\",mat.dim())\n",
    "print(\"Shape:\",mat.shape)\n"
   ]
  },
  {
   "cell_type": "code",
   "execution_count": 55,
   "id": "6d6093c2",
   "metadata": {},
   "outputs": [
    {
     "name": "stdout",
     "output_type": "stream",
     "text": [
      "the matrx multiplication of two 2-dimension matrix with each size of (2,2) is :tensor([[36, 41],\n",
      "        [64, 73]])\n"
     ]
    }
   ],
   "source": [
    "print(f'the matrx multiplication of two 2-dimension matrix with each size of (2,2) is :{mat}')"
   ]
  },
  {
   "cell_type": "markdown",
   "id": "84214f37",
   "metadata": {},
   "source": [
    "#### Using Tensorflow"
   ]
  },
  {
   "cell_type": "code",
   "execution_count": 1,
   "id": "b1b404eb",
   "metadata": {},
   "outputs": [],
   "source": [
    "import tensorflow as tf\n",
    "import numpy as np"
   ]
  },
  {
   "cell_type": "markdown",
   "id": "1bee3a06",
   "metadata": {},
   "source": [
    "Using Tensorflow: \n",
    "  * Calculate the dot product between the same vectors as above (re-define them in Tensorflow)"
   ]
  },
  {
   "cell_type": "code",
   "execution_count": 2,
   "id": "5abcf483",
   "metadata": {},
   "outputs": [],
   "source": [
    "v1 = tf.constant([7,8,9])\n",
    "v2 = tf.constant([9,8,7])"
   ]
  },
  {
   "cell_type": "code",
   "execution_count": 11,
   "id": "489af529",
   "metadata": {},
   "outputs": [],
   "source": [
    "dot_prd = tf.tensordot(v1,v2,axes=1)"
   ]
  },
  {
   "cell_type": "code",
   "execution_count": 17,
   "id": "f7ffbaa5",
   "metadata": {},
   "outputs": [
    {
     "data": {
      "text/plain": [
       "190"
      ]
     },
     "execution_count": 17,
     "metadata": {},
     "output_type": "execute_result"
    }
   ],
   "source": [
    "dot_prd.numpy()  #we use numpy to get value from tensorflow"
   ]
  },
  {
   "cell_type": "code",
   "execution_count": 18,
   "id": "15a6604e",
   "metadata": {},
   "outputs": [
    {
     "name": "stdout",
     "output_type": "stream",
     "text": [
      "the dot product betwwen the two vector of each lenght of 3 is 190\n"
     ]
    }
   ],
   "source": [
    "print(f'the dot product betwwen the two vector of each lenght of 3 is {dot_prd.numpy()}')"
   ]
  },
  {
   "cell_type": "markdown",
   "id": "9aacedcb",
   "metadata": {},
   "source": [
    "Using Tensorflow:\n",
    "* Calculate the matrix multiplication of the same matrics as above (re-define them in Tensorflow)"
   ]
  },
  {
   "cell_type": "code",
   "execution_count": 52,
   "id": "874026fb",
   "metadata": {},
   "outputs": [],
   "source": [
    "mat1 = tf.constant([[2.,3.],[4.,5.]]) #defining the first 2-dim matrix\n",
    "mat2 = tf.constant([[6.,7.],[8.,9.]]) #defining the second 2-dim matrix"
   ]
  },
  {
   "cell_type": "code",
   "execution_count": 64,
   "id": "3147b8f2",
   "metadata": {},
   "outputs": [],
   "source": [
    "mat = tf.matmul(mat1,mat2)"
   ]
  },
  {
   "cell_type": "code",
   "execution_count": 63,
   "id": "027cde42",
   "metadata": {},
   "outputs": [
    {
     "name": "stdout",
     "output_type": "stream",
     "text": [
      "tf.Tensor(\n",
      "[[36. 41.]\n",
      " [64. 73.]], shape=(2, 2), dtype=float32)\n"
     ]
    }
   ],
   "source": [
    "print(mat) #printing the value with tensor\n"
   ]
  },
  {
   "cell_type": "markdown",
   "id": "2c489cd5",
   "metadata": {},
   "source": [
    "#### or"
   ]
  },
  {
   "cell_type": "code",
   "execution_count": 67,
   "id": "eb260865",
   "metadata": {},
   "outputs": [
    {
     "name": "stdout",
     "output_type": "stream",
     "text": [
      "[[36. 41.]\n",
      " [64. 73.]]\n"
     ]
    }
   ],
   "source": [
    "print(mat.numpy())  #value is extracted using numpy"
   ]
  },
  {
   "cell_type": "code",
   "execution_count": 68,
   "id": "163db6b7",
   "metadata": {},
   "outputs": [
    {
     "name": "stdout",
     "output_type": "stream",
     "text": [
      "the matrx multiplication of two 2-dimension matrix with each size of (2,2) is :[[36. 41.]\n",
      " [64. 73.]]\n"
     ]
    }
   ],
   "source": [
    "print(f'the matrx multiplication of two 2-dimension matrix with each size of (2,2) is :{mat.numpy()}')"
   ]
  }
 ],
 "metadata": {
  "kernelspec": {
   "display_name": "tensorflow_cpu",
   "language": "python",
   "name": "tensorflow_cpu"
  },
  "language_info": {
   "codemirror_mode": {
    "name": "ipython",
    "version": 3
   },
   "file_extension": ".py",
   "mimetype": "text/x-python",
   "name": "python",
   "nbconvert_exporter": "python",
   "pygments_lexer": "ipython3",
   "version": "3.11.3"
  }
 },
 "nbformat": 4,
 "nbformat_minor": 5
}
