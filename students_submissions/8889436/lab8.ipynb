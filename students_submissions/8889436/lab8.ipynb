{
 "cells": [
  {
   "cell_type": "markdown",
   "metadata": {},
   "source": [
    "# Lab 8 - A Dot product and a Matrix Multiplication in PyTorch and Tensorflow\n",
    "## Sudhan Shrestha - 8889436"
   ]
  },
  {
   "cell_type": "markdown",
   "metadata": {},
   "source": [
    "#### **Using PyTorch:**"
   ]
  },
  {
   "cell_type": "markdown",
   "metadata": {},
   "source": [
    "- #### Calculate the dot product between two vectors each of length 3 (1.5 points)"
   ]
  },
  {
   "cell_type": "markdown",
   "metadata": {},
   "source": [
    "*To run this first switch to pytorch_cpu kernel*"
   ]
  },
  {
   "cell_type": "code",
   "execution_count": 1,
   "metadata": {},
   "outputs": [
    {
     "name": "stdout",
     "output_type": "stream",
     "text": [
      "Dot product of p_vector1 and p_vector_2:\n",
      "182\n"
     ]
    }
   ],
   "source": [
    "import torch\n",
    "\n",
    "\n",
    "# calculating the dot product between two vectors `p_vector1` and `p_vector2` using the `torch.dot()` function. \n",
    "p_vector1 = torch.tensor([5, 6, 7])\n",
    "p_vector2 = torch.tensor([9, 10, 11])\n",
    "\n",
    "p_dot_ans = torch.dot(p_vector1, p_vector2)\n",
    "print(f\"Dot product of p_vector1 and p_vector_2:\\n{p_dot_ans}\")"
   ]
  },
  {
   "cell_type": "markdown",
   "metadata": {},
   "source": [
    "- #### Calculate the matrix multiplication of two 2-dimensional matrices, each with a size of (2,2) (1.5 points)"
   ]
  },
  {
   "cell_type": "code",
   "execution_count": 2,
   "metadata": {},
   "outputs": [
    {
     "name": "stdout",
     "output_type": "stream",
     "text": [
      "Multiplication of p2d_vector1 and p2d_vector_2: \n",
      "tensor([[ 69,  78],\n",
      "        [ 81, 102]])\n"
     ]
    }
   ],
   "source": [
    "# performing matrix multiplication between two 2-dimensional tensors `p2d_vector1` and `p2d_vector2`.\n",
    "p2d_vector1 = torch.tensor([[5, 6], [5, 9]])\n",
    "p2d_vector2 = torch.tensor([[9, 6], [4, 8]])\n",
    "\n",
    "p_mult_ans = torch.matmul(p2d_vector1, p2d_vector2)\n",
    "print(f\"Multiplication of p2d_vector1 and p2d_vector_2: \\n{p_mult_ans}\")"
   ]
  },
  {
   "cell_type": "markdown",
   "metadata": {},
   "source": [
    "#### **Using Tensorflow:**"
   ]
  },
  {
   "cell_type": "markdown",
   "metadata": {},
   "source": [
    "- #### Calculate the dot product between the same vectors as above (re-define them in Tensorflow) (1.5 points)"
   ]
  },
  {
   "cell_type": "markdown",
   "metadata": {},
   "source": [
    "*Switch to tensorflow_cpu kernel*"
   ]
  },
  {
   "cell_type": "code",
   "execution_count": 1,
   "metadata": {},
   "outputs": [
    {
     "name": "stdout",
     "output_type": "stream",
     "text": [
      "Dot product of t_vector1 and t_vector_2:\n",
      "182\n"
     ]
    }
   ],
   "source": [
    "import tensorflow as tf\n",
    "\n",
    "# calculating the dot product between two tensors `t_vector1` and `t_vector2` using the `tf.tensordot()` function.\n",
    "t_vector1 = tf.constant([5, 6, 7])\n",
    "t_vector2 = tf.constant([9, 10, 11])\n",
    "t_dot_ans = tf.tensordot(t_vector1, t_vector2, axes=1)\n",
    "\n",
    "print(f\"Dot product of t_vector1 and t_vector_2:\\n{t_dot_ans}\")"
   ]
  },
  {
   "cell_type": "markdown",
   "metadata": {},
   "source": [
    "- #### Calculate the matrix multiplication of the same matrics as above (re-define them in Tensorflow) (1.5 points)"
   ]
  },
  {
   "cell_type": "code",
   "execution_count": 2,
   "metadata": {},
   "outputs": [
    {
     "name": "stdout",
     "output_type": "stream",
     "text": [
      "Multiplication of t2d_vector1 and t2d_vector_2: \n",
      "[[ 69  78]\n",
      " [ 81 102]]\n"
     ]
    }
   ],
   "source": [
    "# performing matrix multiplication between two 2-dimensional tensors `t2d_vector1` and `t2d_vector2`.\n",
    "t2d_vector1 = tf.constant([[5, 6], [5, 9]])\n",
    "t2d_vector2 = tf.constant([[9, 6], [4, 8]])\n",
    "\n",
    "t_mult_ans = tf.matmul(t2d_vector1, t2d_vector2)\n",
    "print(f\"Multiplication of t2d_vector1 and t2d_vector_2: \\n{t_mult_ans}\")"
   ]
  }
 ],
 "metadata": {
  "kernelspec": {
   "display_name": "pytorch_cpu",
   "language": "python",
   "name": "python3"
  },
  "language_info": {
   "codemirror_mode": {
    "name": "ipython",
    "version": 3
   },
   "file_extension": ".py",
   "mimetype": "text/x-python",
   "name": "python",
   "nbconvert_exporter": "python",
   "pygments_lexer": "ipython3",
   "version": "3.11.1"
  },
  "orig_nbformat": 4
 },
 "nbformat": 4,
 "nbformat_minor": 2
}
