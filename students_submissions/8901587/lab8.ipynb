{
 "cells": [
  {
   "cell_type": "markdown",
   "metadata": {},
   "source": [
    "***foundations of machine leraning lab8***"
   ]
  },
  {
   "cell_type": "markdown",
   "metadata": {},
   "source": [
    "**Using PyTorch:**"
   ]
  },
  {
   "cell_type": "markdown",
   "metadata": {},
   "source": [
    "1. Calculate the dot product between two vectors each of length 3 (1.5 points)\n"
   ]
  },
  {
   "cell_type": "code",
   "execution_count": 17,
   "metadata": {},
   "outputs": [
    {
     "data": {
      "text/plain": [
       "229"
      ]
     },
     "execution_count": 17,
     "metadata": {},
     "output_type": "execute_result"
    }
   ],
   "source": [
    "# import pytorch and tensorflow\n",
    "import torch\n",
    "\n",
    "\n",
    "vec1 = torch.tensor([7,8,9])\n",
    "vec2 = torch.tensor([12,8,9])\n",
    "\n",
    "# Find dot product\n",
    "torch.dot(vec1, vec2).item()"
   ]
  },
  {
   "cell_type": "markdown",
   "metadata": {},
   "source": [
    "2. Calculate the matrix multiplication of two 2-dimensional matrices, each with a size of (2,2) (1.5 points)"
   ]
  },
  {
   "cell_type": "code",
   "execution_count": 18,
   "metadata": {},
   "outputs": [
    {
     "data": {
      "text/plain": [
       "tensor([[ 68,  56],\n",
       "        [109,  94]])"
      ]
     },
     "execution_count": 18,
     "metadata": {},
     "output_type": "execute_result"
    }
   ],
   "source": [
    "# Define input matrices\n",
    "matrices1 = torch.tensor([[6, 2], [9, 4]])\n",
    "matrices2 = torch.tensor([[9, 6], [7, 10]])\n",
    "\n",
    "# Multiply input matrices\n",
    "torch.matmul(matrices1,matrices2)"
   ]
  },
  {
   "cell_type": "markdown",
   "metadata": {},
   "source": [
    "**TensorFlow**"
   ]
  },
  {
   "cell_type": "markdown",
   "metadata": {},
   "source": [
    "1. Calculate the dot product between the same vectors as above."
   ]
  },
  {
   "cell_type": "code",
   "execution_count": 19,
   "metadata": {},
   "outputs": [],
   "source": [
    "import tensorflow as tf"
   ]
  },
  {
   "cell_type": "code",
   "execution_count": 20,
   "metadata": {},
   "outputs": [
    {
     "data": {
      "text/plain": [
       "229"
      ]
     },
     "execution_count": 20,
     "metadata": {},
     "output_type": "execute_result"
    }
   ],
   "source": [
    "v1 = tf.constant([7,8,9,])\n",
    "v2 = tf.constant([12,8, 9])\n",
    "\n",
    "# Find dot product\n",
    "tf.get_static_value(tf.tensordot(v1, v2, axes=1))"
   ]
  },
  {
   "cell_type": "markdown",
   "metadata": {},
   "source": [
    "2. Calculate the matrix multiplication of the same matrics as above"
   ]
  },
  {
   "cell_type": "code",
   "execution_count": 21,
   "metadata": {},
   "outputs": [
    {
     "data": {
      "text/plain": [
       "array([[ 68,  56],\n",
       "       [109,  94]])"
      ]
     },
     "execution_count": 21,
     "metadata": {},
     "output_type": "execute_result"
    }
   ],
   "source": [
    "# Define input vectors\n",
    "m1 = tf.constant([[6, 2], [9, 4]])\n",
    "m2 = tf.constant([[9, 6], [7, 10]])\n",
    "\n",
    "# Multiply input vectors\n",
    "tf.get_static_value(tf.matmul(m1, m2))"
   ]
  }
 ],
 "metadata": {
  "kernelspec": {
   "display_name": "CSCN8010_classic_ml",
   "language": "python",
   "name": "cscn8010_classic_ml"
  },
  "language_info": {
   "codemirror_mode": {
    "name": "ipython",
    "version": 3
   },
   "file_extension": ".py",
   "mimetype": "text/x-python",
   "name": "python",
   "nbconvert_exporter": "python",
   "pygments_lexer": "ipython3",
   "version": "3.11.3"
  },
  "orig_nbformat": 4
 },
 "nbformat": 4,
 "nbformat_minor": 2
}
