{
 "cells": [
  {
   "cell_type": "markdown",
   "id": "ad13c1c4",
   "metadata": {},
   "source": [
    "# NAME       :AYODELE AWOLEYE\n",
    "# STUDENTID: 8900611\n",
    "# ASSIGNMENT: LAB8"
   ]
  },
  {
   "cell_type": "markdown",
   "id": "f270b4e3",
   "metadata": {},
   "source": [
    "Using PyTorch:\n",
    "\n",
    "Calculate the dot product between two vectors each of length 3 (1.5 points)"
   ]
  },
  {
   "cell_type": "code",
   "execution_count": 1,
   "id": "dcdc3905",
   "metadata": {},
   "outputs": [],
   "source": [
    "# importing the require packages\n",
    "import torch"
   ]
  },
  {
   "cell_type": "code",
   "execution_count": 2,
   "id": "506b4e51",
   "metadata": {},
   "outputs": [
    {
     "name": "stdout",
     "output_type": "stream",
     "text": [
      "Dot product: 32\n"
     ]
    }
   ],
   "source": [
    "# Define the vectors\n",
    "\n",
    "# Method one\n",
    "vector1 = torch.tensor([1, 2, 3])\n",
    "vector2 = torch.tensor([4, 5, 6])\n",
    "\n",
    "# Calculate the dot product using torch.dot()\n",
    "dot_product = torch.dot(vector1, vector2)\n",
    "\n",
    "print(\"Dot product:\", dot_product.item())"
   ]
  },
  {
   "cell_type": "code",
   "execution_count": 3,
   "id": "94b76217",
   "metadata": {},
   "outputs": [
    {
     "name": "stdout",
     "output_type": "stream",
     "text": [
      "Dot product: 32\n"
     ]
    }
   ],
   "source": [
    "# let define the matrice\n",
    "\n",
    "vector1 = torch.tensor([1, 2, 3])\n",
    "vector2 = torch.tensor([4, 5, 6])\n",
    "\n",
    "# Calculate the dot product using element-wise multiplication and summation\n",
    "dot_product = torch.sum(vector1 * vector2)\n",
    "\n",
    "print(\"Dot product:\", dot_product.item())"
   ]
  },
  {
   "cell_type": "markdown",
   "id": "31e075e2",
   "metadata": {},
   "source": [
    " # To Calculate the matrix multiplication of two 2-dimensional matrices, each with a size of (2,2) (1.5 points)"
   ]
  },
  {
   "cell_type": "code",
   "execution_count": 4,
   "id": "90f8e014",
   "metadata": {},
   "outputs": [],
   "source": [
    "# importing the require packages\n",
    "import tensorflow as tf"
   ]
  },
  {
   "cell_type": "code",
   "execution_count": 5,
   "id": "0577d6fc",
   "metadata": {},
   "outputs": [
    {
     "name": "stdout",
     "output_type": "stream",
     "text": [
      "Dot product: tf.Tensor(32, shape=(), dtype=int32)\n"
     ]
    }
   ],
   "source": [
    "# lets define the vectors\n",
    "\n",
    "# first method\n",
    "\n",
    "vector1 = tf.constant([1, 2, 3])\n",
    "vector2 = tf.constant([4, 5, 6])\n",
    "\n",
    "# Calculate the dot product using tf.tensordot()\n",
    "dot_product = tf.tensordot(vector1, vector2, axes=1)\n",
    "\n",
    "print(\"Dot product:\", dot_product)"
   ]
  },
  {
   "cell_type": "code",
   "execution_count": 6,
   "id": "d20cf55b",
   "metadata": {},
   "outputs": [
    {
     "name": "stdout",
     "output_type": "stream",
     "text": [
      "Dot product: tf.Tensor(32, shape=(), dtype=int32)\n"
     ]
    }
   ],
   "source": [
    "# lets define the vectors\n",
    "\n",
    "# second method\n",
    "\n",
    "vector1 = tf.constant([1, 2, 3])\n",
    "vector2 = tf.constant([4, 5, 6])\n",
    "\n",
    "# Calculate the dot product using element-wise multiplication and reduction\n",
    "dot_product = tf.reduce_sum(vector1 * vector2)\n",
    "\n",
    "print(\"Dot product:\", dot_product)"
   ]
  },
  {
   "cell_type": "code",
   "execution_count": 7,
   "id": "ac10f5f0",
   "metadata": {},
   "outputs": [
    {
     "name": "stdout",
     "output_type": "stream",
     "text": [
      "Matrix multiplication:\n",
      "tf.Tensor(\n",
      "[[19 22]\n",
      " [43 50]], shape=(2, 2), dtype=int32)\n"
     ]
    }
   ],
   "source": [
    "# lets Define the matrices\n",
    "\n",
    "# first method\n",
    "matrix1 = tf.constant([[1, 2], [3, 4]])\n",
    "matrix2 = tf.constant([[5, 6], [7, 8]])\n",
    "\n",
    "# Calculate the matrix multiplication using the @ operator\n",
    "result = matrix1 @ matrix2\n",
    "\n",
    "print(\"Matrix multiplication:\")\n",
    "print(result)"
   ]
  },
  {
   "cell_type": "code",
   "execution_count": 8,
   "id": "1c949dd5",
   "metadata": {},
   "outputs": [
    {
     "name": "stdout",
     "output_type": "stream",
     "text": [
      "Matrix multiplication:\n",
      "tf.Tensor(\n",
      "[[19 22]\n",
      " [43 50]], shape=(2, 2), dtype=int32)\n"
     ]
    }
   ],
   "source": [
    "# lets Define the matrices\n",
    "\n",
    "# second method\n",
    "\n",
    "matrix1 = tf.constant([[1, 2], [3, 4]])\n",
    "matrix2 = tf.constant([[5, 6], [7, 8]])\n",
    "\n",
    "# Calculate the matrix multiplication using tf.matmul()\n",
    "result = tf.matmul(matrix1, matrix2)\n",
    "\n",
    "print(\"Matrix multiplication:\")\n",
    "print(result)"
   ]
  }
 ],
 "metadata": {
  "kernelspec": {
   "display_name": "pytorch_cpu",
   "language": "python",
   "name": "pytorch_cpu"
  },
  "language_info": {
   "codemirror_mode": {
    "name": "ipython",
    "version": 3
   },
   "file_extension": ".py",
   "mimetype": "text/x-python",
   "name": "python",
   "nbconvert_exporter": "python",
   "pygments_lexer": "ipython3",
   "version": "3.11.3"
  }
 },
 "nbformat": 4,
 "nbformat_minor": 5
}
