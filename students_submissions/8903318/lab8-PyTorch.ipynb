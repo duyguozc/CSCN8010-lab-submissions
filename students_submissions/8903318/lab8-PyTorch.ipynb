{
 "cells": [
  {
   "attachments": {},
   "cell_type": "markdown",
   "metadata": {},
   "source": [
    "## LAB-8\n",
    "### Name: Harshitha Anishetty\n",
    "### StudenID: 8903318"
   ]
  },
  {
   "attachments": {},
   "cell_type": "markdown",
   "metadata": {},
   "source": [
    "### Using PyTorch:\n",
    "#### 1.Calculate the dot product between two vectors each of length 3"
   ]
  },
  {
   "cell_type": "code",
   "execution_count": 7,
   "metadata": {},
   "outputs": [
    {
     "name": "stdout",
     "output_type": "stream",
     "text": [
      "Dot product: 93\n"
     ]
    }
   ],
   "source": [
    "import torch\n",
    "\n",
    "# Calculate the dot product between two vectors\n",
    "vector1 = torch.tensor([1, 9, 13])\n",
    "vector2 = torch.tensor([4, 7, 2])\n",
    "dot_product = torch.dot(vector1, vector2)\n",
    "print(\"Dot product:\", dot_product.item())\n"
   ]
  },
  {
   "attachments": {},
   "cell_type": "markdown",
   "metadata": {},
   "source": [
    "#### 2.Calculate the matrix multiplication of two 2-dimensional matrices, each with a size of (2,2)"
   ]
  },
  {
   "cell_type": "code",
   "execution_count": 8,
   "metadata": {},
   "outputs": [
    {
     "name": "stdout",
     "output_type": "stream",
     "text": [
      "Matrix product:\n",
      "tensor([[100,  26],\n",
      "        [ 97, 115]])\n"
     ]
    }
   ],
   "source": [
    "\n",
    "# Perform matrix multiplication\n",
    "matrix1 = torch.tensor([[10, 2], [3, 14]])\n",
    "matrix2 = torch.tensor([[9, 1], [5, 8]])\n",
    "matrix_product = torch.matmul(matrix1, matrix2)\n",
    "print(\"Matrix product:\")\n",
    "print(matrix_product)"
   ]
  }
 ],
 "metadata": {
  "kernelspec": {
   "display_name": "CSCN8010_classic_ml",
   "language": "python",
   "name": "python3"
  },
  "language_info": {
   "codemirror_mode": {
    "name": "ipython",
    "version": 3
   },
   "file_extension": ".py",
   "mimetype": "text/x-python",
   "name": "python",
   "nbconvert_exporter": "python",
   "pygments_lexer": "ipython3",
   "version": "3.11.3"
  },
  "orig_nbformat": 4
 },
 "nbformat": 4,
 "nbformat_minor": 2
}
