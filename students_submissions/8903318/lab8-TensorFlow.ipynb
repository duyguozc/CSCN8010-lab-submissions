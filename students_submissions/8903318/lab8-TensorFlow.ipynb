{
 "cells": [
  {
   "attachments": {},
   "cell_type": "markdown",
   "metadata": {},
   "source": [
    "## LAB-8\n",
    "### Name: Harshitha Anishetty\n",
    "### StudenID: 8903318"
   ]
  },
  {
   "attachments": {},
   "cell_type": "markdown",
   "metadata": {},
   "source": [
    "### Using Tensorflow:\n",
    "#### 1.Calculate the dot product between the same vectors as above (re-define them in Tensorflow)"
   ]
  },
  {
   "cell_type": "code",
   "execution_count": 9,
   "metadata": {},
   "outputs": [
    {
     "name": "stdout",
     "output_type": "stream",
     "text": [
      "Dot product: 93\n"
     ]
    }
   ],
   "source": [
    "import tensorflow as tf\n",
    "\n",
    "# Calculate the dot product between two vectors\n",
    "vector1 = tf.constant([1, 9, 13])\n",
    "vector2 = tf.constant([4, 7, 2])\n",
    "dot_product = tf.tensordot(vector1, vector2, axes=1)\n",
    "print(\"Dot product:\", dot_product.numpy())\n"
   ]
  },
  {
   "attachments": {},
   "cell_type": "markdown",
   "metadata": {},
   "source": [
    "#### 2.Calculate the matrix multiplication of the same matrics as above (re-define them in Tensorflow)"
   ]
  },
  {
   "cell_type": "code",
   "execution_count": 10,
   "metadata": {},
   "outputs": [
    {
     "name": "stdout",
     "output_type": "stream",
     "text": [
      "Matrix product:\n",
      "[[100  26]\n",
      " [ 97 115]]\n"
     ]
    }
   ],
   "source": [
    "# Perform matrix multiplication\n",
    "matrix1 = tf.constant([[10, 2], [3, 14]])\n",
    "matrix2 = tf.constant([[9, 1], [5, 8]])\n",
    "matrix_product = tf.matmul(matrix1, matrix2)\n",
    "print(\"Matrix product:\")\n",
    "print(matrix_product.numpy())\n"
   ]
  }
 ],
 "metadata": {
  "kernelspec": {
   "display_name": "CSCN8010_classic_ml",
   "language": "python",
   "name": "python3"
  },
  "language_info": {
   "codemirror_mode": {
    "name": "ipython",
    "version": 3
   },
   "file_extension": ".py",
   "mimetype": "text/x-python",
   "name": "python",
   "nbconvert_exporter": "python",
   "pygments_lexer": "ipython3",
   "version": "3.11.3"
  },
  "orig_nbformat": 4
 },
 "nbformat": 4,
 "nbformat_minor": 2
}
