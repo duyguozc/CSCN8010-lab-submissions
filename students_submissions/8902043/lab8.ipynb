{
 "cells": [
  {
   "cell_type": "markdown",
   "metadata": {},
   "source": [
    "## LAB 8\n",
    "### Guru Charan Bogireddy - 8902043"
   ]
  },
  {
   "cell_type": "markdown",
   "metadata": {},
   "source": [
    "### Using Pytorch Kernel"
   ]
  },
  {
   "cell_type": "code",
   "execution_count": 14,
   "metadata": {},
   "outputs": [],
   "source": [
    "import torch"
   ]
  },
  {
   "cell_type": "markdown",
   "metadata": {},
   "source": [
    "Calculate the dot product between two vectors each of length 3 (1.5 points)"
   ]
  },
  {
   "cell_type": "code",
   "execution_count": 3,
   "metadata": {},
   "outputs": [
    {
     "name": "stdout",
     "output_type": "stream",
     "text": [
      "tensor(32)\n"
     ]
    }
   ],
   "source": [
    "# Define two vectors\n",
    "v1 = torch.tensor([1,2,3])\n",
    "v2 = torch.tensor([4,5,6])\n",
    "\n",
    "vProd = torch.dot(v1, v2)\n",
    "\n",
    "print(vProd)"
   ]
  },
  {
   "cell_type": "markdown",
   "metadata": {},
   "source": [
    "Calculate the matrix multiplication of two 2-dimensional matrices, each with a size of (2,2) (1.5 points)"
   ]
  },
  {
   "cell_type": "code",
   "execution_count": 12,
   "metadata": {},
   "outputs": [
    {
     "name": "stdout",
     "output_type": "stream",
     "text": [
      "m1 shape torch.Size([2, 2])\n",
      "m2 shape torch.Size([2, 2])\n",
      "matrix multiplication:\n",
      " tensor([[19, 22],\n",
      "        [43, 50]])\n"
     ]
    }
   ],
   "source": [
    "m1=torch.tensor([[1,2],[3,4]])\n",
    "m2 = torch.tensor([[5,6],[7,8]])\n",
    "print(\"m1 shape\",m1.shape)\n",
    "print(\"m2 shape\",m2.shape)\n",
    "\n",
    "\n",
    "#Using torch.matmul() for multiplication\n",
    "result = torch.matmul(m1, m2)\n",
    "print(\"matrix multiplication:\\n\", result)"
   ]
  },
  {
   "cell_type": "markdown",
   "metadata": {},
   "source": [
    "### Using Tensorflow"
   ]
  },
  {
   "cell_type": "markdown",
   "metadata": {},
   "source": [
    "Calculate the dot product between the same vectors as above (re-define them in Tensorflow) (1.5 points)"
   ]
  },
  {
   "cell_type": "code",
   "execution_count": 2,
   "metadata": {},
   "outputs": [],
   "source": [
    "import tensorflow as tf"
   ]
  },
  {
   "cell_type": "code",
   "execution_count": 5,
   "metadata": {},
   "outputs": [
    {
     "name": "stdout",
     "output_type": "stream",
     "text": [
      "tf.Tensor(32, shape=(), dtype=int32)\n"
     ]
    }
   ],
   "source": [
    "# Define two vectors\n",
    "v3 = tf.constant([1, 2, 3])\n",
    "v4 = tf.constant([4, 5, 6])\n",
    "vProd2 = tf.tensordot(v3, v4, axes=1)\n",
    "print(vProd2)\n"
   ]
  },
  {
   "cell_type": "markdown",
   "metadata": {},
   "source": [
    "Calculate the matrix multiplication of the same matrics as above (re-define them in Tensorflow) (1.5 points)"
   ]
  },
  {
   "cell_type": "code",
   "execution_count": 6,
   "metadata": {},
   "outputs": [
    {
     "name": "stdout",
     "output_type": "stream",
     "text": [
      "m1 shape (2, 2)\n",
      "m2 shape (2, 2)\n",
      "matrix multiplication:\n",
      " tf.Tensor(\n",
      "[[19 22]\n",
      " [43 50]], shape=(2, 2), dtype=int32)\n"
     ]
    }
   ],
   "source": [
    "m3 = tf.constant([[1,2],[3,4]])\n",
    "m4 = tf.constant([[5,6],[7,8]])\n",
    "print(\"m1 shape\",m3.shape)\n",
    "print(\"m2 shape\",m4.shape)\n",
    "\n",
    "\n",
    "#Using torch.matmul() for multiplication\n",
    "result2 = tf.matmul(m3, m4)\n",
    "print(\"matrix multiplication:\\n\", result2)"
   ]
  }
 ],
 "metadata": {
  "kernelspec": {
   "display_name": "CSCN8010_classic_ml",
   "language": "python",
   "name": "python3"
  },
  "language_info": {
   "codemirror_mode": {
    "name": "ipython",
    "version": 3
   },
   "file_extension": ".py",
   "mimetype": "text/x-python",
   "name": "python",
   "nbconvert_exporter": "python",
   "pygments_lexer": "ipython3",
   "version": "3.9.13"
  },
  "orig_nbformat": 4
 },
 "nbformat": 4,
 "nbformat_minor": 2
}
