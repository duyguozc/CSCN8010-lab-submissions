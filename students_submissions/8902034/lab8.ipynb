{
 "cells": [
  {
   "cell_type": "markdown",
   "metadata": {},
   "source": [
    "Calculate the dot product between two vectors each of length 3 (1.5 points)"
   ]
  },
  {
   "cell_type": "code",
   "execution_count": 1,
   "metadata": {},
   "outputs": [
    {
     "name": "stdout",
     "output_type": "stream",
     "text": [
      "Dot product (Method 1): 12.3656005859375\n",
      "Dot product (Method 2): 12.3656005859375\n",
      "Dot product (Method 3): 12.3656005859375\n",
      "Dot product (Method 4): 12.3656005859375\n",
      "Dot product (Method 5): 0.9902983903884888\n"
     ]
    }
   ],
   "source": [
    "import torch\n",
    "\n",
    "# Define the vectors using PyTorch\n",
    "vector1 = torch.tensor([3.14, 1.59, 2.71], dtype=torch.float32)\n",
    "vector2 = torch.tensor([2.23, 0.97, 1.41], dtype=torch.float32)\n",
    "\n",
    "# Method 1: Using torch.dot()\n",
    "dot_product1 = torch.dot(vector1, vector2)\n",
    "print(\"Dot product (Method 1):\", dot_product1.item())\n",
    "\n",
    "# Method 2: Using element-wise multiplication and sum\n",
    "dot_product2 = torch.sum(vector1 * vector2)\n",
    "print(\"Dot product (Method 2):\", dot_product2.item())\n",
    "\n",
    "# Method 3: Using torch.matmul()\n",
    "dot_product3 = torch.matmul(vector1.unsqueeze(0), vector2.unsqueeze(1))\n",
    "print(\"Dot product (Method 3):\", dot_product3.item())\n",
    "\n",
    "# Method 4: Using torch.einsum()\n",
    "dot_product4 = torch.einsum(\"i,i->\", vector1, vector2)\n",
    "print(\"Dot product (Method 4):\", dot_product4.item())\n",
    "\n",
    "# Method 5: Using torch.nn.functional.cosine_similarity()\n",
    "normalized_vector1 = torch.nn.functional.normalize(vector1, dim=0)\n",
    "normalized_vector2 = torch.nn.functional.normalize(vector2, dim=0)\n",
    "dot_product5 = torch.nn.functional.cosine_similarity(normalized_vector1, normalized_vector2, dim=0)\n",
    "print(\"Dot product (Method 5):\", dot_product5.item())\n"
   ]
  },
  {
   "cell_type": "markdown",
   "metadata": {},
   "source": [
    "Calculate the matrix multiplication of two 2-dimensional matrices, each with a size of (2,2) (1.5 points)"
   ]
  },
  {
   "cell_type": "code",
   "execution_count": 2,
   "metadata": {},
   "outputs": [
    {
     "name": "stdout",
     "output_type": "stream",
     "text": [
      "Matrix multiplication (Method 1):\n",
      "tensor([[ 7393.6348, 10979.3486],\n",
      "        [ 3820.5981,  5494.3467]])\n",
      "Matrix multiplication (Method 2):\n",
      "tensor([[ 7393.6348, 10979.3486],\n",
      "        [ 3820.5981,  5494.3467]])\n",
      "Matrix multiplication (Method 3):\n",
      "tensor([[ 7393.6348, 10979.3486],\n",
      "        [ 3820.5981,  5494.3467]])\n",
      "Matrix multiplication (Method 4):\n",
      "tensor([[ 7393.6348, 10979.3486],\n",
      "        [ 3820.5981,  5494.3467]])\n"
     ]
    }
   ],
   "source": [
    "# Define the matrices using PyTorch\n",
    "matrix1 = torch.tensor([[51.64, 80.72],\n",
    "                        [23.15, 42.37]], dtype=torch.float32)\n",
    "\n",
    "matrix2 = torch.tensor([[15.25, 67.93],\n",
    "                        [81.84, 92.56]], dtype=torch.float32)\n",
    "\n",
    "# Method 1: Using torch.matmul()\n",
    "matrix_mult1 = torch.matmul(matrix1, matrix2)\n",
    "print(\"Matrix multiplication (Method 1):\")\n",
    "print(matrix_mult1)\n",
    "\n",
    "# Method 2: Using torch.mm()\n",
    "matrix_mult2 = torch.mm(matrix1, matrix2)\n",
    "print(\"Matrix multiplication (Method 2):\")\n",
    "print(matrix_mult2)\n",
    "\n",
    "# Method 3: Using @ operator\n",
    "matrix_mult3 = matrix1 @ matrix2\n",
    "print(\"Matrix multiplication (Method 3):\")\n",
    "print(matrix_mult3)\n",
    "\n",
    "# Method 4: Using torch.einsum()\n",
    "matrix_mult4 = torch.einsum('ij,jk->ik', matrix1, matrix2)\n",
    "print(\"Matrix multiplication (Method 4):\")\n",
    "print(matrix_mult4)\n"
   ]
  },
  {
   "cell_type": "markdown",
   "metadata": {},
   "source": [
    "Method 1: Directly calculating the dot product of the two vectors using the torch.dot() method.\n",
    "\n",
    "Method 2: Using the * operator to multiply the vectors element-by-element, using torch.sum() to add the resulting tensor.\n",
    "\n",
    "Method 3: Matrix multiplication between the vectors using the torch.matmul() method. The output is a 1x1 tensor that represents the dot product since the vectors are rearranged into a row vector (vector1.unsqueeze(0)) and a column vector.\n",
    "\n",
    "Method 4: Compute the dot product directly by summing the element-wise products of the vectors using torch.einsum() and the given equation \"i,i->\".\n",
    "\n",
    "Method 5: Utilising torch.nn.functional.cosine_similarity() after torch.nn.functional.normalize() has normalised the vectors. When the vectors are unit normalised, this approach computes the cosine similarity between them, which is identical to the dot product.\n",
    "\n",
    "Method 1.Using the torch.matmul() function directly.\n",
    "\n",
    "Method 2: Applying the torch.mm() function, which is intended for 2D matrix multiplication.\n",
    "\n",
    "Method 3: Matrix multiplication is carried out through the @ operator.\n",
    "\n",
    "Method 4: Direct matrix multiplication computation by using torch.einsum() and a contraction operation."
   ]
  },
  {
   "cell_type": "markdown",
   "metadata": {},
   "source": [
    "Using Tensorflow:\n",
    "\n",
    "Calculate the dot product between the same vectors as above (re-define them in Tensorflow) (1.5 points)"
   ]
  },
  {
   "cell_type": "code",
   "execution_count": 2,
   "metadata": {},
   "outputs": [
    {
     "name": "stdout",
     "output_type": "stream",
     "text": [
      "Dot product (Method 1): 12.365601\n",
      "Dot product (Method 2): 12.365601\n",
      "Dot product (Method 3): 12.365601\n",
      "Dot product (Method 4): 12.365601\n",
      "Dot product (Method 5): [[7.0022    3.0458002 4.4274   ]\n",
      " [3.5457    1.5423001 2.2419   ]\n",
      " [6.0433    2.6287    3.8211   ]]\n"
     ]
    }
   ],
   "source": [
    "import tensorflow as tf\n",
    "\n",
    "# Define the vectors using TensorFlow\n",
    "vector1 = tf.constant([3.14, 1.59, 2.71], dtype=tf.float32)\n",
    "vector2 = tf.constant([2.23, 0.97, 1.41], dtype=tf.float32)\n",
    "\n",
    "# Method 1: Using tf.tensordot()\n",
    "dot_product1 = tf.tensordot(vector1, vector2, axes=1)\n",
    "print(\"Dot product (Method 1):\", dot_product1.numpy())\n",
    "\n",
    "# Method 2: Using tf.reduce_sum() and tf.multiply()\n",
    "dot_product2 = tf.reduce_sum(tf.multiply(vector1, vector2))\n",
    "print(\"Dot product (Method 2):\", dot_product2.numpy())\n",
    "\n",
    "# Method 3: Using tf.einsum()\n",
    "dot_product3 = tf.einsum(\"i,i->\", vector1, vector2)\n",
    "print(\"Dot product (Method 3):\", dot_product3.numpy())\n",
    "\n",
    "# Method 4: Using tf.math.reduce_sum() and tf.math.multiply()\n",
    "dot_product4 = tf.math.reduce_sum(tf.math.multiply(vector1, vector2))\n",
    "print(\"Dot product (Method 4):\", dot_product4.numpy())\n",
    "\n",
    "# Method 5: Using tf.linalg.matmul() with matrix reshaping\n",
    "reshaped_vector1 = tf.reshape(vector1, [3, 1])\n",
    "reshaped_vector2 = tf.reshape(vector2, [1, 3])\n",
    "dot_product5 = tf.linalg.matmul(reshaped_vector1, reshaped_vector2)\n",
    "print(\"Dot product (Method 5):\", dot_product5.numpy())\n"
   ]
  },
  {
   "cell_type": "markdown",
   "metadata": {},
   "source": [
    "Calculate the matrix multiplication of the same matrics as above (re-define them in Tensorflow) (1.5 points)"
   ]
  },
  {
   "cell_type": "code",
   "execution_count": 4,
   "metadata": {},
   "outputs": [
    {
     "name": "stdout",
     "output_type": "stream",
     "text": [
      "Matrix multiplication (Method 1):\n",
      "[[ 7393.635  10979.349 ]\n",
      " [ 3820.5981  5494.3467]]\n",
      "Matrix multiplication (Method 2):\n",
      "[[ 7393.635  10979.349 ]\n",
      " [ 3820.5981  5494.3467]]\n",
      "Matrix multiplication (Method 3):\n",
      "[[ 7393.635  10979.349 ]\n",
      " [ 3820.5981  5494.3467]]\n",
      "Matrix multiplication (Method 4):\n",
      "[[ 6270.8193 11697.66  ]\n",
      " [ 3231.2317  5816.363 ]]\n"
     ]
    }
   ],
   "source": [
    "# Define the matrices using TensorFlow\n",
    "matrix1 = tf.constant([[51.64, 80.72],\n",
    "                       [23.15, 42.37]], dtype=tf.float32)\n",
    "\n",
    "matrix2 = tf.constant([[15.25, 67.93],\n",
    "                       [81.84, 92.56]], dtype=tf.float32)\n",
    "\n",
    "# Method 1: Using tf.matmul()\n",
    "matrix_mult1 = tf.matmul(matrix1, matrix2)\n",
    "print(\"Matrix multiplication (Method 1):\")\n",
    "print(matrix_mult1.numpy())\n",
    "\n",
    "# Method 2: Using tf.linalg.matmul()\n",
    "matrix_mult2 = tf.linalg.matmul(matrix1, matrix2)\n",
    "print(\"Matrix multiplication (Method 2):\")\n",
    "print(matrix_mult2.numpy())\n",
    "\n",
    "# Method 3: Using tf.tensordot()\n",
    "matrix_mult3 = tf.tensordot(matrix1, matrix2, axes=1)\n",
    "print(\"Matrix multiplication (Method 3):\")\n",
    "print(matrix_mult3.numpy())\n",
    "\n",
    "# Method 4: Using tf.reduce_sum() and tf.multiply()\n",
    "matrix_mult4 = tf.reduce_sum(tf.multiply(tf.expand_dims(matrix1, axis=1), tf.expand_dims(matrix2, axis=0)), axis=2)\n",
    "print(\"Matrix multiplication (Method 4):\")\n",
    "print(matrix_mult4.numpy())\n"
   ]
  },
  {
   "cell_type": "markdown",
   "metadata": {},
   "source": [
    "Method 1: By setting axes=1 and using the tf.tensordot() function to calculate the dot product of the two vectors directly.\n",
    "\n",
    "Method 2: Element-wise multiplying the vectors with tf.reduce_sum() and tf.multiply(), then summing the resulting tensor to get the dot product.\n",
    "\n",
    "Method 3: Using the given equation \"i,i->\" and tf.einsum() to calculate the dot product by adding the element-wise products of the vectors directly.\n",
    "\n",
    "Method 4: Element-wise multiplying the vectors with tf.math.reduce_sum() and tf.math.multiply(), then summing the resulting tensor to get the dot product.\n",
    "\n",
    "Method 5: Converting the vectors into a 2D matrix using tf.linalg.matmul(). Both reshaped_vector1 and reshaped_vector2 are transformed into column vectors ([3, 1]) and row vectors ([1, 3]), respectively. After that, matrix multiplication is carried out.\n",
    "\n",
    "Method 1: Directly calculating the matrix multiplication of matrices 1 and 2 using the tf.matmul() function.\n",
    "\n",
    "Method 2: Calculate the matrix multiplication of matrices 1 and 2 using the tf.linalg.matmul() function. This technique can handle more complex matrix operations and is the same as tf.matmul().\n",
    "\n",
    "Method 3: Matrix multiplication using the tf.tensordot() method with axes set to 1.\n",
    "\n",
    "Method 4: Compute the matrix multiplication by element-wise multiplication and summing the resulting tensor using tf.reduce_sum() and tf.multiply(). To simplify element-wise multiplication, more dimensions are added to matrix1 and matrix2 using tf.expand_dims()."
   ]
  }
 ],
 "metadata": {
  "kernelspec": {
   "display_name": "tensorflow_cpu",
   "language": "python",
   "name": "tensorflow_cpu"
  },
  "language_info": {
   "codemirror_mode": {
    "name": "ipython",
    "version": 3
   },
   "file_extension": ".py",
   "mimetype": "text/x-python",
   "name": "python",
   "nbconvert_exporter": "python",
   "pygments_lexer": "ipython3",
   "version": "3.11.3"
  },
  "orig_nbformat": 4
 },
 "nbformat": 4,
 "nbformat_minor": 2
}
