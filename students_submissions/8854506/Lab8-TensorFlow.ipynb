{
 "cells": [
  {
   "cell_type": "markdown",
   "metadata": {},
   "source": [
    "# Raghavendra Deshmukh - 8854506"
   ]
  },
  {
   "cell_type": "markdown",
   "metadata": {},
   "source": [
    "### Using Tensorflow:\n",
    "1.Calculate the dot product between the same vectors as above (re-define them in Tensorflow) "
   ]
  },
  {
   "cell_type": "code",
   "execution_count": 3,
   "metadata": {},
   "outputs": [
    {
     "name": "stdout",
     "output_type": "stream",
     "text": [
      "Dot product: 9380\n"
     ]
    }
   ],
   "source": [
    "import tensorflow as tf\n",
    "\n",
    "# Calculate the dot product between two vectors\n",
    "vector1 = tf.constant([5, 25, 50])\n",
    "vector2 = tf.constant([6, 36, 169])\n",
    "dot_product = tf.tensordot(vector1, vector2, axes=1)\n",
    "print(\"Dot product:\", dot_product.numpy())"
   ]
  },
  {
   "cell_type": "markdown",
   "metadata": {},
   "source": [
    "##### 2.Calculate the matrix multiplication of the same matrics as above (re-define them in Tensorflow)"
   ]
  },
  {
   "cell_type": "code",
   "execution_count": 4,
   "metadata": {},
   "outputs": [
    {
     "name": "stdout",
     "output_type": "stream",
     "text": [
      "Matrix product:\n",
      "tf.Tensor(\n",
      "[[ 210  420]\n",
      " [ 630 1260]], shape=(2, 2), dtype=int32)\n"
     ]
    }
   ],
   "source": [
    "# Perform matrix multiplication\n",
    "matrix1 = tf.constant([[15, 30], [45, 90]])\n",
    "matrix2 = tf.constant([[4, 8], [5, 10]])\n",
    "matrix_product = tf.matmul(matrix1, matrix2)\n",
    "print(\"Matrix product:\")\n",
    "print(matrix_product)"
   ]
  },
  {
   "cell_type": "code",
   "execution_count": null,
   "metadata": {},
   "outputs": [],
   "source": []
  }
 ],
 "metadata": {
  "kernelspec": {
   "display_name": "tensorflow_cpu",
   "language": "python",
   "name": "tensorflow_cpu"
  },
  "language_info": {
   "codemirror_mode": {
    "name": "ipython",
    "version": 3
   },
   "file_extension": ".py",
   "mimetype": "text/x-python",
   "name": "python",
   "nbconvert_exporter": "python",
   "pygments_lexer": "ipython3",
   "version": "3.11.3"
  }
 },
 "nbformat": 4,
 "nbformat_minor": 2
}
