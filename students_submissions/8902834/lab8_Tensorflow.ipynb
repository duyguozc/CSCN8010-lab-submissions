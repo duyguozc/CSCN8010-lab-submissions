{
 "cells": [
  {
   "cell_type": "markdown",
   "metadata": {},
   "source": [
    "<h1 align = \"center\"><B><U>Lab 8</U> - <U>A Dot product and a Matrix Multiplication in PyTorch and Tensorflow</U></B></h1>\n",
    "<h3 align = \"center\"><B>Waseem Iqbal Shaikh(8902834)</B></h3>"
   ]
  },
  {
   "cell_type": "markdown",
   "metadata": {},
   "source": [
    "<h3><B><U>Using Tensorflow</U>:</B></h3>\n"
   ]
  },
  {
   "cell_type": "code",
   "execution_count": 12,
   "metadata": {},
   "outputs": [],
   "source": [
    "# Importing the neccessary packages:\n",
    "import tensorflow as tf\n",
    "import numpy as np"
   ]
  },
  {
   "cell_type": "markdown",
   "metadata": {},
   "source": [
    "- Calculate the dot product between the same vectors as above (re-define them in Tensorflow) (1.5 points)\n"
   ]
  },
  {
   "cell_type": "code",
   "execution_count": 13,
   "metadata": {},
   "outputs": [
    {
     "name": "stdout",
     "output_type": "stream",
     "text": [
      "The vector 'x' is  tf.Tensor([1. 3. 5.], shape=(3,), dtype=float32)\n",
      "The vector 'y' is  tf.Tensor([2. 4. 6.], shape=(3,), dtype=float32)\n",
      "\n",
      "The Dot Product of the two vectors 'x' and 'y' is tf.Tensor(44.0, shape=(), dtype=float32)\n"
     ]
    }
   ],
   "source": [
    "# Initializing two vectors of length 3:\n",
    "x = tf.constant([1., 3., 5.])\n",
    "y = tf.constant([2., 4., 6.])\n",
    "\n",
    "# Displaying the type of variable x and y:\n",
    "print(\"The vector 'x' is \",x)\n",
    "print(\"The vector 'y' is \",y)\n",
    "\n",
    "# Calculating the dot product between the two vectors 'x' and 'y':\n",
    "dotProduct = tf.tensordot(x, y, axes = 1)\n",
    "print(\"\\nThe Dot Product of the two vectors 'x' and 'y' is\", dotProduct)"
   ]
  },
  {
   "cell_type": "markdown",
   "metadata": {},
   "source": [
    "- Calculate the matrix multiplication of the same matrics as above (re-define them in Tensorflow) (1.5 points)"
   ]
  },
  {
   "cell_type": "code",
   "execution_count": 14,
   "metadata": {},
   "outputs": [
    {
     "name": "stdout",
     "output_type": "stream",
     "text": [
      "The matrix 'a' is  tf.Tensor(\n",
      "[[1. 3.]\n",
      " [5. 7.]], shape=(2, 2), dtype=float32)\n",
      "The matrix 'b' is  tf.Tensor(\n",
      "[[2. 4.]\n",
      " [6. 8.]], shape=(2, 2), dtype=float32)\n",
      "\n",
      "The result of multiplication between two 2-dimensional matrices 'a' and 'b', each with a size of (2,2) is:\n",
      " tf.Tensor(\n",
      "[[20. 28.]\n",
      " [52. 76.]], shape=(2, 2), dtype=float32)\n"
     ]
    }
   ],
   "source": [
    "# Initializing two 2-dimensional matrices each with a size of (2,2):\n",
    "a = tf.constant([[1., 3.],[5., 7.]])\n",
    "b = tf.constant([[2., 4.],[6., 8.]])\n",
    "\n",
    "# Displaying the type of variable a and b:\n",
    "print(\"The matrix 'a' is \",a)\n",
    "print(\"The matrix 'b' is \",b)\n",
    "\n",
    "# Calculate the matrix multiplication of two 2-dimensional matrices 'a' and 'b':\n",
    "matrixMultiplication = tf.matmul(a,b)\n",
    "print(\"\\nThe result of multiplication between two 2-dimensional matrices 'a' and 'b', each with a size of (2,2) is:\\n\", matrixMultiplication)"
   ]
  }
 ],
 "metadata": {
  "kernelspec": {
   "display_name": "tensorflow_cpu",
   "language": "python",
   "name": "python3"
  },
  "language_info": {
   "codemirror_mode": {
    "name": "ipython",
    "version": 3
   },
   "file_extension": ".py",
   "mimetype": "text/x-python",
   "name": "python",
   "nbconvert_exporter": "python",
   "pygments_lexer": "ipython3",
   "version": "3.11.3"
  },
  "orig_nbformat": 4
 },
 "nbformat": 4,
 "nbformat_minor": 2
}
