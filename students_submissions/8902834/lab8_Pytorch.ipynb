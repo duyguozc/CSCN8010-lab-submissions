{
 "cells": [
  {
   "cell_type": "markdown",
   "metadata": {},
   "source": [
    "<h1 align = \"center\"><B><U>Lab 8</U> - <U>A Dot product and a Matrix Multiplication in PyTorch and Tensorflow</U></B></h1>\n",
    "<h3 align = \"center\"><B>Waseem Iqbal Shaikh(8902834)</B></h3>"
   ]
  },
  {
   "cell_type": "markdown",
   "metadata": {},
   "source": [
    "\n",
    "<h3><B><U>Using PyTorch</U>:</B><h3>\n"
   ]
  },
  {
   "cell_type": "code",
   "execution_count": 20,
   "metadata": {},
   "outputs": [],
   "source": [
    "# Importing the neccessary packages:\n",
    "import sys\n",
    "import torch\n",
    "import helpers as h"
   ]
  },
  {
   "cell_type": "markdown",
   "metadata": {},
   "source": [
    "- Calculate the dot product between two vectors each of length 3 (1.5 points)\n"
   ]
  },
  {
   "cell_type": "code",
   "execution_count": 21,
   "metadata": {},
   "outputs": [
    {
     "name": "stdout",
     "output_type": "stream",
     "text": [
      "tensor([1., 3., 5.])\n",
      "Type         <class 'torch.Tensor'>\n",
      "dtype        torch.float32\n",
      "Dimension    1\n",
      "Shape        (3,)\n",
      "\n",
      "\n",
      "tensor([2., 4., 6.])\n",
      "Type         <class 'torch.Tensor'>\n",
      "dtype        torch.float32\n",
      "Dimension    1\n",
      "Shape        (3,)\n",
      "\n",
      "The Dot Product of the two vectors 'x' and 'y' is tensor(44.)\n"
     ]
    }
   ],
   "source": [
    "# Initializing two vectors of length 3:\n",
    "x = torch.tensor([1., 3., 5.])\n",
    "y = torch.tensor([2., 4., 6.])\n",
    "\n",
    "# Displaying the type of variable x and y:\n",
    "h.print_tensor_info(x)\n",
    "print(\"\\n\")\n",
    "h.print_tensor_info(y)\n",
    "\n",
    "# Calculating the dot product between the two vectors 'x' and 'y':\n",
    "dotProduct = x.dot(y)\n",
    "print(\"\\nThe Dot Product of the two vectors 'x' and 'y' is\", dotProduct)"
   ]
  },
  {
   "cell_type": "markdown",
   "metadata": {},
   "source": [
    "- Calculate the matrix multiplication of two 2-dimensional matrices, each with a size of (2,2) (1.5 points)"
   ]
  },
  {
   "cell_type": "code",
   "execution_count": 22,
   "metadata": {},
   "outputs": [
    {
     "name": "stdout",
     "output_type": "stream",
     "text": [
      "tensor([[1., 3.],\n",
      "        [5., 7.]])\n",
      "Type         <class 'torch.Tensor'>\n",
      "dtype        torch.float32\n",
      "Dimension    2\n",
      "Shape        (2, 2)\n",
      "\n",
      "\n",
      "tensor([[2., 4.],\n",
      "        [6., 8.]])\n",
      "Type         <class 'torch.Tensor'>\n",
      "dtype        torch.float32\n",
      "Dimension    2\n",
      "Shape        (2, 2)\n",
      "\n",
      "The result of multiplication between two 2-dimensional matrices 'a' and 'b', each with a size of (2,2) is:\n",
      " tensor([[20., 28.],\n",
      "        [52., 76.]])\n"
     ]
    }
   ],
   "source": [
    "# Initializing two 2-dimensional matrices each with a size of (2,2):\n",
    "a = torch.tensor([[1., 3.],[5., 7.]])\n",
    "b = torch.tensor([[2., 4.],[6., 8.]])\n",
    "\n",
    "# Displaying the type of variable a and b:\n",
    "h.print_tensor_info(a)\n",
    "print(\"\\n\")\n",
    "h.print_tensor_info(b)\n",
    "\n",
    "# Calculate the matrix multiplication of two 2-dimensional matrices 'a' and 'b':\n",
    "matrixMultiplication = a.matmul(b)\n",
    "print(\"\\nThe result of multiplication between two 2-dimensional matrices 'a' and 'b', each with a size of (2,2) is:\\n\", matrixMultiplication)"
   ]
  }
 ],
 "metadata": {
  "kernelspec": {
   "display_name": "pytorch_cpu",
   "language": "python",
   "name": "python3"
  },
  "language_info": {
   "codemirror_mode": {
    "name": "ipython",
    "version": 3
   },
   "file_extension": ".py",
   "mimetype": "text/x-python",
   "name": "python",
   "nbconvert_exporter": "python",
   "pygments_lexer": "ipython3",
   "version": "3.11.3"
  },
  "orig_nbformat": 4
 },
 "nbformat": 4,
 "nbformat_minor": 2
}
