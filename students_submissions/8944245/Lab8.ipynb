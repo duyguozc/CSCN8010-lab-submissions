{
 "cells": [
  {
   "cell_type": "markdown",
   "metadata": {},
   "source": [
    "##  <font color = '#1589FF'> <i> <b> <u> Lab 8 - A Dot product and a Matrix Multiplication in PyTorch and Tensorflow </u> </b> </i>"
   ]
  },
  {
   "cell_type": "markdown",
   "metadata": {},
   "source": [
    "####  <font color = '#36454F'> <i> <b> <u> - Using PyTorch: </i> </b></u> </font>  <br>\n",
    "####   <font color = '#1589FF'> <i> <b> <u> Calculate the dot product between two vectors each of length 3  </u> </b> </i> </font>"
   ]
  },
  {
   "cell_type": "code",
   "execution_count": 1,
   "metadata": {},
   "outputs": [
    {
     "name": "stdout",
     "output_type": "stream",
     "text": [
      "tensor([3, 5, 7]) \n",
      "\n",
      " tensor([1, 3, 8])\n"
     ]
    }
   ],
   "source": [
    "import torch\n",
    "\n",
    "# Define the vectors\n",
    "vect1 = torch.tensor([3, 5, 7])\n",
    "vect2 = torch.tensor([1, 3, 8])\n",
    "print(vect1, \"\\n\\n\", vect2)\n"
   ]
  },
  {
   "cell_type": "code",
   "execution_count": 7,
   "metadata": {},
   "outputs": [
    {
     "name": "stdout",
     "output_type": "stream",
     "text": [
      "Dot product using PyTorch: tensor(74)\n"
     ]
    }
   ],
   "source": [
    "#  Calculate the dot product\n",
    "dot_product = torch.dot(vect1, vect2)\n",
    "print(\"Dot product using PyTorch:\", dot_product)"
   ]
  },
  {
   "cell_type": "markdown",
   "metadata": {},
   "source": [
    "####  <font color = '#1589FF'> <i> <b> <u> \n",
    "#### Calculate the matrix multiplication of two 2-dimensional matrices, each with a size of (2,2)  </u> </b> </i> </font>\n"
   ]
  },
  {
   "cell_type": "code",
   "execution_count": 4,
   "metadata": {},
   "outputs": [
    {
     "name": "stdout",
     "output_type": "stream",
     "text": [
      "Matrix multiplication using PyTorch:\n",
      "tensor([[19, 22],\n",
      "        [43, 50]])\n"
     ]
    }
   ],
   "source": [
    "# Define the matrices\n",
    "matrx1 = torch.tensor([[1, 2], [3, 4]])\n",
    "matrx2 = torch.tensor([[5, 6], [7, 8]])\n",
    "# Calculate the matrix multiplication\n",
    "matrix_product = torch.matmul(matrx1, matrx2)\n",
    "print(\"Matrix multiplication using PyTorch:\")\n",
    "print(matrix_product)"
   ]
  },
  {
   "cell_type": "markdown",
   "metadata": {},
   "source": [
    "####  <font color = '#36454F'> <i> <b> <u> Using Tensorflow: </i> </b></u> </font>  <br>\n",
    "####   <font color = '#1589FF'> <i> <b> <u> Calculate the dot product between the same vectors as above (re-define them in Tensorflow)  </u> </b> </i> </font>"
   ]
  },
  {
   "cell_type": "code",
   "execution_count": 1,
   "metadata": {},
   "outputs": [
    {
     "name": "stdout",
     "output_type": "stream",
     "text": [
      "Dot product using TensorFlow: tf.Tensor(74, shape=(), dtype=int32)\n"
     ]
    }
   ],
   "source": [
    "import tensorflow as tf\n",
    "\n",
    "# Define the vectors\n",
    "vector1 = tf.constant([3, 5, 7])\n",
    "vector2 = tf.constant([1, 3, 8])\n",
    "\n",
    "# Calculate the dot product\n",
    "dot_product = tf.tensordot(vector1, vector2, axes=1)\n",
    "\n",
    "print(\"Dot product using TensorFlow:\", dot_product)\n",
    "\n"
   ]
  },
  {
   "cell_type": "code",
   "execution_count": 2,
   "metadata": {},
   "outputs": [
    {
     "name": "stdout",
     "output_type": "stream",
     "text": [
      "Matrix multiplication using TensorFlow:\n",
      "tf.Tensor(\n",
      "[[19 22]\n",
      " [43 50]], shape=(2, 2), dtype=int32)\n"
     ]
    }
   ],
   "source": [
    "# Define the matrices\n",
    "matrix1 = tf.constant([[1, 2], [3, 4]])\n",
    "matrix2 = tf.constant([[5, 6], [7, 8]])\n",
    "# Calculate the matrix multiplication\n",
    "matrix_product = tf.matmul(matrix1, matrix2)\n",
    "print(\"Matrix multiplication using TensorFlow:\")\n",
    "print(matrix_product)"
   ]
  }
 ],
 "metadata": {
  "kernelspec": {
   "display_name": "tensorflow_cpu",
   "language": "python",
   "name": "tensorflow_cpu"
  },
  "language_info": {
   "codemirror_mode": {
    "name": "ipython",
    "version": 3
   },
   "file_extension": ".py",
   "mimetype": "text/x-python",
   "name": "python",
   "nbconvert_exporter": "python",
   "pygments_lexer": "ipython3",
   "version": "3.11.3"
  },
  "orig_nbformat": 4
 },
 "nbformat": 4,
 "nbformat_minor": 2
}
